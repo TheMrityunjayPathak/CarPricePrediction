{
 "cells": [
  {
   "cell_type": "markdown",
   "id": "2ac9adae",
   "metadata": {
    "papermill": {
     "duration": 0.028746,
     "end_time": "2023-06-04T17:05:10.925506",
     "exception": false,
     "start_time": "2023-06-04T17:05:10.896760",
     "status": "completed"
    },
    "tags": []
   },
   "source": [
    "<h1 style=\"color:black\" align=\"center\">Honda Car Price Prediction</h1>"
   ]
  },
  {
   "cell_type": "markdown",
   "id": "1af033bb",
   "metadata": {
    "papermill": {
     "duration": 0.029148,
     "end_time": "2023-06-04T17:05:10.986485",
     "exception": false,
     "start_time": "2023-06-04T17:05:10.957337",
     "status": "completed"
    },
    "tags": []
   },
   "source": [
    "- **Importing Important Libraries**"
   ]
  },
  {
   "cell_type": "code",
   "execution_count": 1,
   "id": "d633dabd",
   "metadata": {
    "execution": {
     "iopub.execute_input": "2023-06-04T17:05:11.046239Z",
     "iopub.status.busy": "2023-06-04T17:05:11.044326Z",
     "iopub.status.idle": "2023-06-04T17:05:12.638472Z",
     "shell.execute_reply": "2023-06-04T17:05:12.636532Z"
    },
    "papermill": {
     "duration": 1.627725,
     "end_time": "2023-06-04T17:05:12.642233",
     "exception": false,
     "start_time": "2023-06-04T17:05:11.014508",
     "status": "completed"
    },
    "tags": []
   },
   "outputs": [],
   "source": [
    "import pandas as pd\n",
    "from matplotlib import pyplot as plt\n",
    "import seaborn as sns\n",
    "import numpy as np \n",
    "%matplotlib inline"
   ]
  },
  {
   "cell_type": "markdown",
   "id": "13568272",
   "metadata": {
    "papermill": {
     "duration": 0.028292,
     "end_time": "2023-06-04T17:05:12.699441",
     "exception": false,
     "start_time": "2023-06-04T17:05:12.671149",
     "status": "completed"
    },
    "tags": []
   },
   "source": [
    "- **Reading CSV File**"
   ]
  },
  {
   "cell_type": "code",
   "execution_count": 2,
   "id": "d474ba6c",
   "metadata": {
    "execution": {
     "iopub.execute_input": "2023-06-04T17:05:12.759045Z",
     "iopub.status.busy": "2023-06-04T17:05:12.758558Z",
     "iopub.status.idle": "2023-06-04T17:05:12.814858Z",
     "shell.execute_reply": "2023-06-04T17:05:12.813053Z"
    },
    "papermill": {
     "duration": 0.090177,
     "end_time": "2023-06-04T17:05:12.818627",
     "exception": false,
     "start_time": "2023-06-04T17:05:12.728450",
     "status": "completed"
    },
    "tags": []
   },
   "outputs": [
    {
     "data": {
      "text/html": [
       "<div>\n",
       "<style scoped>\n",
       "    .dataframe tbody tr th:only-of-type {\n",
       "        vertical-align: middle;\n",
       "    }\n",
       "\n",
       "    .dataframe tbody tr th {\n",
       "        vertical-align: top;\n",
       "    }\n",
       "\n",
       "    .dataframe thead th {\n",
       "        text-align: right;\n",
       "    }\n",
       "</style>\n",
       "<table border=\"1\" class=\"dataframe\">\n",
       "  <thead>\n",
       "    <tr style=\"text-align: right;\">\n",
       "      <th></th>\n",
       "      <th>Year</th>\n",
       "      <th>kms Driven</th>\n",
       "      <th>Fuel Type</th>\n",
       "      <th>Suspension</th>\n",
       "      <th>Price</th>\n",
       "      <th>Car Model</th>\n",
       "    </tr>\n",
       "  </thead>\n",
       "  <tbody>\n",
       "    <tr>\n",
       "      <th>0</th>\n",
       "      <td>2019</td>\n",
       "      <td>19006 kms</td>\n",
       "      <td>Petrol</td>\n",
       "      <td>Automatic</td>\n",
       "      <td>9.29 Lakh</td>\n",
       "      <td>Honda City V CVT</td>\n",
       "    </tr>\n",
       "    <tr>\n",
       "      <th>1</th>\n",
       "      <td>2021</td>\n",
       "      <td>11936 kms</td>\n",
       "      <td>Petrol</td>\n",
       "      <td>Automatic</td>\n",
       "      <td>13.95 Lakh</td>\n",
       "      <td>Honda City ZX CVT</td>\n",
       "    </tr>\n",
       "    <tr>\n",
       "      <th>2</th>\n",
       "      <td>2018</td>\n",
       "      <td>29635 kms</td>\n",
       "      <td>Petrol</td>\n",
       "      <td>Automatic</td>\n",
       "      <td>9.95 Lakh</td>\n",
       "      <td>Honda City i-VTEC CVT ZX</td>\n",
       "    </tr>\n",
       "    <tr>\n",
       "      <th>3</th>\n",
       "      <td>2020</td>\n",
       "      <td>16163 kms</td>\n",
       "      <td>Petrol</td>\n",
       "      <td>Automatic</td>\n",
       "      <td>13.26 Lakh</td>\n",
       "      <td>Honda City ZX CVT</td>\n",
       "    </tr>\n",
       "    <tr>\n",
       "      <th>4</th>\n",
       "      <td>2015</td>\n",
       "      <td>105114 kms</td>\n",
       "      <td>Petrol</td>\n",
       "      <td>Manual</td>\n",
       "      <td>5.68 Lakh</td>\n",
       "      <td>Honda City i VTEC V</td>\n",
       "    </tr>\n",
       "  </tbody>\n",
       "</table>\n",
       "</div>"
      ],
      "text/plain": [
       "   Year   kms Driven Fuel Type  Suspension        Price  \\\n",
       "0  2019   19006 kms    Petrol    Automatic    9.29 Lakh   \n",
       "1  2021   11936 kms    Petrol    Automatic   13.95 Lakh   \n",
       "2  2018   29635 kms    Petrol    Automatic    9.95 Lakh   \n",
       "3  2020   16163 kms    Petrol    Automatic   13.26 Lakh   \n",
       "4  2015  105114 kms    Petrol       Manual    5.68 Lakh   \n",
       "\n",
       "                  Car Model  \n",
       "0          Honda City V CVT  \n",
       "1         Honda City ZX CVT  \n",
       "2  Honda City i-VTEC CVT ZX  \n",
       "3         Honda City ZX CVT  \n",
       "4       Honda City i VTEC V  "
      ]
     },
     "execution_count": 2,
     "metadata": {},
     "output_type": "execute_result"
    }
   ],
   "source": [
    "df1 = pd.read_csv(\"/kaggle/input/honda-car-selling/honda_car_selling.csv\")\n",
    "df1.head()"
   ]
  },
  {
   "cell_type": "markdown",
   "id": "6e7af3ba",
   "metadata": {
    "papermill": {
     "duration": 0.028868,
     "end_time": "2023-06-04T17:05:12.875765",
     "exception": false,
     "start_time": "2023-06-04T17:05:12.846897",
     "status": "completed"
    },
    "tags": []
   },
   "source": [
    "<h1 style=\"color:blue\" align=\"center\">Data Cleaning</h1>"
   ]
  },
  {
   "cell_type": "markdown",
   "id": "6b6fc0a5",
   "metadata": {
    "papermill": {
     "duration": 0.027158,
     "end_time": "2023-06-04T17:05:12.930686",
     "exception": false,
     "start_time": "2023-06-04T17:05:12.903528",
     "status": "completed"
    },
    "tags": []
   },
   "source": [
    "- **Creating Backup of Dataset**"
   ]
  },
  {
   "cell_type": "code",
   "execution_count": 3,
   "id": "2cc90bfa",
   "metadata": {
    "execution": {
     "iopub.execute_input": "2023-06-04T17:05:12.989832Z",
     "iopub.status.busy": "2023-06-04T17:05:12.989323Z",
     "iopub.status.idle": "2023-06-04T17:05:12.996416Z",
     "shell.execute_reply": "2023-06-04T17:05:12.994682Z"
    },
    "papermill": {
     "duration": 0.040818,
     "end_time": "2023-06-04T17:05:12.999785",
     "exception": false,
     "start_time": "2023-06-04T17:05:12.958967",
     "status": "completed"
    },
    "tags": []
   },
   "outputs": [],
   "source": [
    "backup = df1.copy()"
   ]
  },
  {
   "cell_type": "markdown",
   "id": "26926f7b",
   "metadata": {
    "papermill": {
     "duration": 0.027786,
     "end_time": "2023-06-04T17:05:13.055995",
     "exception": false,
     "start_time": "2023-06-04T17:05:13.028209",
     "status": "completed"
    },
    "tags": []
   },
   "source": [
    "- **Info of the Dataset**"
   ]
  },
  {
   "cell_type": "code",
   "execution_count": 4,
   "id": "19940cdf",
   "metadata": {
    "execution": {
     "iopub.execute_input": "2023-06-04T17:05:13.114868Z",
     "iopub.status.busy": "2023-06-04T17:05:13.114362Z",
     "iopub.status.idle": "2023-06-04T17:05:13.146451Z",
     "shell.execute_reply": "2023-06-04T17:05:13.144657Z"
    },
    "papermill": {
     "duration": 0.065574,
     "end_time": "2023-06-04T17:05:13.149510",
     "exception": false,
     "start_time": "2023-06-04T17:05:13.083936",
     "status": "completed"
    },
    "tags": []
   },
   "outputs": [
    {
     "name": "stdout",
     "output_type": "stream",
     "text": [
      "<class 'pandas.core.frame.DataFrame'>\n",
      "RangeIndex: 999 entries, 0 to 998\n",
      "Data columns (total 6 columns):\n",
      " #   Column      Non-Null Count  Dtype \n",
      "---  ------      --------------  ----- \n",
      " 0   Year        999 non-null    int64 \n",
      " 1   kms Driven  999 non-null    object\n",
      " 2   Fuel Type   999 non-null    object\n",
      " 3   Suspension  999 non-null    object\n",
      " 4   Price       999 non-null    object\n",
      " 5   Car Model   999 non-null    object\n",
      "dtypes: int64(1), object(5)\n",
      "memory usage: 47.0+ KB\n"
     ]
    }
   ],
   "source": [
    "df1.info()"
   ]
  },
  {
   "cell_type": "markdown",
   "id": "a7dc2406",
   "metadata": {
    "papermill": {
     "duration": 0.027441,
     "end_time": "2023-06-04T17:05:13.206145",
     "exception": false,
     "start_time": "2023-06-04T17:05:13.178704",
     "status": "completed"
    },
    "tags": []
   },
   "source": [
    "- **Shape of Dataset**"
   ]
  },
  {
   "cell_type": "code",
   "execution_count": 5,
   "id": "df09a21f",
   "metadata": {
    "execution": {
     "iopub.execute_input": "2023-06-04T17:05:13.266146Z",
     "iopub.status.busy": "2023-06-04T17:05:13.265614Z",
     "iopub.status.idle": "2023-06-04T17:05:13.274448Z",
     "shell.execute_reply": "2023-06-04T17:05:13.273166Z"
    },
    "papermill": {
     "duration": 0.043006,
     "end_time": "2023-06-04T17:05:13.277672",
     "exception": false,
     "start_time": "2023-06-04T17:05:13.234666",
     "status": "completed"
    },
    "tags": []
   },
   "outputs": [
    {
     "data": {
      "text/plain": [
       "(999, 6)"
      ]
     },
     "execution_count": 5,
     "metadata": {},
     "output_type": "execute_result"
    }
   ],
   "source": [
    "df1.shape"
   ]
  },
  {
   "cell_type": "markdown",
   "id": "c7ddfbad",
   "metadata": {
    "papermill": {
     "duration": 0.029203,
     "end_time": "2023-06-04T17:05:13.335747",
     "exception": false,
     "start_time": "2023-06-04T17:05:13.306544",
     "status": "completed"
    },
    "tags": []
   },
   "source": [
    "- **Cleaning Year Column**"
   ]
  },
  {
   "cell_type": "markdown",
   "id": "f3c91b4b",
   "metadata": {
    "papermill": {
     "duration": 0.031598,
     "end_time": "2023-06-04T17:05:13.397352",
     "exception": false,
     "start_time": "2023-06-04T17:05:13.365754",
     "status": "completed"
    },
    "tags": []
   },
   "source": [
    "*As, we see Year Column has no Non-Year Values and it is in (int) DataType so It is already Clean*"
   ]
  },
  {
   "cell_type": "code",
   "execution_count": 6,
   "id": "a967a30a",
   "metadata": {
    "execution": {
     "iopub.execute_input": "2023-06-04T17:05:13.459876Z",
     "iopub.status.busy": "2023-06-04T17:05:13.459269Z",
     "iopub.status.idle": "2023-06-04T17:05:13.469869Z",
     "shell.execute_reply": "2023-06-04T17:05:13.468876Z"
    },
    "papermill": {
     "duration": 0.046511,
     "end_time": "2023-06-04T17:05:13.474365",
     "exception": false,
     "start_time": "2023-06-04T17:05:13.427854",
     "status": "completed"
    },
    "tags": []
   },
   "outputs": [
    {
     "data": {
      "text/plain": [
       "array([2019, 2021, 2018, 2020, 2015, 2016, 2014, 2017, 2022, 2013, 2012,\n",
       "       2010, 2011, 2008, 2009, 2023, 2007, 2005, 2004, 2003, 2006, 2000])"
      ]
     },
     "execution_count": 6,
     "metadata": {},
     "output_type": "execute_result"
    }
   ],
   "source": [
    "df1[\"Year\"].unique()"
   ]
  },
  {
   "cell_type": "markdown",
   "id": "88691c0f",
   "metadata": {
    "papermill": {
     "duration": 0.03223,
     "end_time": "2023-06-04T17:05:13.540371",
     "exception": false,
     "start_time": "2023-06-04T17:05:13.508141",
     "status": "completed"
    },
    "tags": []
   },
   "source": [
    "- **Cleaning kms Driven Column**"
   ]
  },
  {
   "cell_type": "markdown",
   "id": "6430ffed",
   "metadata": {
    "papermill": {
     "duration": 0.03001,
     "end_time": "2023-06-04T17:05:13.599914",
     "exception": false,
     "start_time": "2023-06-04T17:05:13.569904",
     "status": "completed"
    },
    "tags": []
   },
   "source": [
    "*Firstly, we will strip the White Spaces from both the ends from the String*"
   ]
  },
  {
   "cell_type": "code",
   "execution_count": 7,
   "id": "0c4200f4",
   "metadata": {
    "execution": {
     "iopub.execute_input": "2023-06-04T17:05:13.660806Z",
     "iopub.status.busy": "2023-06-04T17:05:13.659904Z",
     "iopub.status.idle": "2023-06-04T17:05:13.667134Z",
     "shell.execute_reply": "2023-06-04T17:05:13.665775Z"
    },
    "papermill": {
     "duration": 0.041275,
     "end_time": "2023-06-04T17:05:13.670351",
     "exception": false,
     "start_time": "2023-06-04T17:05:13.629076",
     "status": "completed"
    },
    "tags": []
   },
   "outputs": [],
   "source": [
    "df1[\"kms Driven\"] = df1[\"kms Driven\"].str.strip()"
   ]
  },
  {
   "cell_type": "markdown",
   "id": "25ff4617",
   "metadata": {
    "papermill": {
     "duration": 0.031805,
     "end_time": "2023-06-04T17:05:13.733426",
     "exception": false,
     "start_time": "2023-06-04T17:05:13.701621",
     "status": "completed"
    },
    "tags": []
   },
   "source": [
    "*Then, we will Split the String with Space Delimiter and keep the First Numeric Part*"
   ]
  },
  {
   "cell_type": "code",
   "execution_count": 8,
   "id": "a635abbe",
   "metadata": {
    "execution": {
     "iopub.execute_input": "2023-06-04T17:05:13.797616Z",
     "iopub.status.busy": "2023-06-04T17:05:13.796772Z",
     "iopub.status.idle": "2023-06-04T17:05:13.806479Z",
     "shell.execute_reply": "2023-06-04T17:05:13.805007Z"
    },
    "papermill": {
     "duration": 0.045907,
     "end_time": "2023-06-04T17:05:13.810356",
     "exception": false,
     "start_time": "2023-06-04T17:05:13.764449",
     "status": "completed"
    },
    "tags": []
   },
   "outputs": [],
   "source": [
    "df1[\"kms Driven\"] = df1[\"kms Driven\"].str.split().str.get(0)"
   ]
  },
  {
   "cell_type": "markdown",
   "id": "902932ed",
   "metadata": {
    "papermill": {
     "duration": 0.029797,
     "end_time": "2023-06-04T17:05:13.869068",
     "exception": false,
     "start_time": "2023-06-04T17:05:13.839271",
     "status": "completed"
    },
    "tags": []
   },
   "source": [
    "*And, finally we will convert the kms Driven into (int) DataType*"
   ]
  },
  {
   "cell_type": "code",
   "execution_count": 9,
   "id": "8393b34b",
   "metadata": {
    "execution": {
     "iopub.execute_input": "2023-06-04T17:05:13.930897Z",
     "iopub.status.busy": "2023-06-04T17:05:13.929997Z",
     "iopub.status.idle": "2023-06-04T17:05:13.937587Z",
     "shell.execute_reply": "2023-06-04T17:05:13.935668Z"
    },
    "papermill": {
     "duration": 0.043329,
     "end_time": "2023-06-04T17:05:13.941647",
     "exception": false,
     "start_time": "2023-06-04T17:05:13.898318",
     "status": "completed"
    },
    "tags": []
   },
   "outputs": [],
   "source": [
    "df1[\"kms Driven\"] = df1[\"kms Driven\"].astype(int)"
   ]
  },
  {
   "cell_type": "markdown",
   "id": "51591132",
   "metadata": {
    "papermill": {
     "duration": 0.027984,
     "end_time": "2023-06-04T17:05:13.999145",
     "exception": false,
     "start_time": "2023-06-04T17:05:13.971161",
     "status": "completed"
    },
    "tags": []
   },
   "source": [
    "- **Cleaning the Fuel Type Column**"
   ]
  },
  {
   "cell_type": "markdown",
   "id": "3374591e",
   "metadata": {
    "papermill": {
     "duration": 0.028149,
     "end_time": "2023-06-04T17:05:14.056996",
     "exception": false,
     "start_time": "2023-06-04T17:05:14.028847",
     "status": "completed"
    },
    "tags": []
   },
   "source": [
    "*Here, we can see Extra White Spaces in Fuel Type Column*"
   ]
  },
  {
   "cell_type": "code",
   "execution_count": 10,
   "id": "36574508",
   "metadata": {
    "execution": {
     "iopub.execute_input": "2023-06-04T17:05:14.119036Z",
     "iopub.status.busy": "2023-06-04T17:05:14.118088Z",
     "iopub.status.idle": "2023-06-04T17:05:14.127525Z",
     "shell.execute_reply": "2023-06-04T17:05:14.125998Z"
    },
    "papermill": {
     "duration": 0.044734,
     "end_time": "2023-06-04T17:05:14.130701",
     "exception": false,
     "start_time": "2023-06-04T17:05:14.085967",
     "status": "completed"
    },
    "tags": []
   },
   "outputs": [
    {
     "data": {
      "text/plain": [
       "array([' Petrol ', ' Diesel ', ' CNG '], dtype=object)"
      ]
     },
     "execution_count": 10,
     "metadata": {},
     "output_type": "execute_result"
    }
   ],
   "source": [
    "df1[\"Fuel Type\"].unique()"
   ]
  },
  {
   "cell_type": "markdown",
   "id": "6a662c86",
   "metadata": {
    "papermill": {
     "duration": 0.029858,
     "end_time": "2023-06-04T17:05:14.189913",
     "exception": false,
     "start_time": "2023-06-04T17:05:14.160055",
     "status": "completed"
    },
    "tags": []
   },
   "source": [
    "*We will Strip the Extra White Spaces from both ends in Fuel Type Column*"
   ]
  },
  {
   "cell_type": "code",
   "execution_count": 11,
   "id": "8b9cf592",
   "metadata": {
    "execution": {
     "iopub.execute_input": "2023-06-04T17:05:14.249548Z",
     "iopub.status.busy": "2023-06-04T17:05:14.249004Z",
     "iopub.status.idle": "2023-06-04T17:05:14.258392Z",
     "shell.execute_reply": "2023-06-04T17:05:14.256716Z"
    },
    "papermill": {
     "duration": 0.04264,
     "end_time": "2023-06-04T17:05:14.261170",
     "exception": false,
     "start_time": "2023-06-04T17:05:14.218530",
     "status": "completed"
    },
    "tags": []
   },
   "outputs": [],
   "source": [
    "df1[\"Fuel Type\"] = df1[\"Fuel Type\"].str.strip()"
   ]
  },
  {
   "cell_type": "markdown",
   "id": "6f2acdd6",
   "metadata": {
    "papermill": {
     "duration": 0.028699,
     "end_time": "2023-06-04T17:05:14.318186",
     "exception": false,
     "start_time": "2023-06-04T17:05:14.289487",
     "status": "completed"
    },
    "tags": []
   },
   "source": [
    "- **Cleaning Suspension Column**"
   ]
  },
  {
   "cell_type": "markdown",
   "id": "d2aae059",
   "metadata": {
    "papermill": {
     "duration": 0.027649,
     "end_time": "2023-06-04T17:05:14.374703",
     "exception": false,
     "start_time": "2023-06-04T17:05:14.347054",
     "status": "completed"
    },
    "tags": []
   },
   "source": [
    "*Here, we can see Extra White Spaces in Suspension Column*"
   ]
  },
  {
   "cell_type": "code",
   "execution_count": 12,
   "id": "b3e99269",
   "metadata": {
    "execution": {
     "iopub.execute_input": "2023-06-04T17:05:14.436332Z",
     "iopub.status.busy": "2023-06-04T17:05:14.434633Z",
     "iopub.status.idle": "2023-06-04T17:05:14.447056Z",
     "shell.execute_reply": "2023-06-04T17:05:14.445322Z"
    },
    "papermill": {
     "duration": 0.04681,
     "end_time": "2023-06-04T17:05:14.450502",
     "exception": false,
     "start_time": "2023-06-04T17:05:14.403692",
     "status": "completed"
    },
    "tags": []
   },
   "outputs": [
    {
     "data": {
      "text/plain": [
       "array([' Automatic', ' Manual'], dtype=object)"
      ]
     },
     "execution_count": 12,
     "metadata": {},
     "output_type": "execute_result"
    }
   ],
   "source": [
    "df1[\"Suspension\"].unique()"
   ]
  },
  {
   "cell_type": "markdown",
   "id": "6d577ab6",
   "metadata": {
    "papermill": {
     "duration": 0.028638,
     "end_time": "2023-06-04T17:05:14.507723",
     "exception": false,
     "start_time": "2023-06-04T17:05:14.479085",
     "status": "completed"
    },
    "tags": []
   },
   "source": [
    "*We will Strip the Extra White Spaces from both ends in Suspension Column*"
   ]
  },
  {
   "cell_type": "code",
   "execution_count": 13,
   "id": "6ab54145",
   "metadata": {
    "execution": {
     "iopub.execute_input": "2023-06-04T17:05:14.567908Z",
     "iopub.status.busy": "2023-06-04T17:05:14.567330Z",
     "iopub.status.idle": "2023-06-04T17:05:14.576459Z",
     "shell.execute_reply": "2023-06-04T17:05:14.574208Z"
    },
    "papermill": {
     "duration": 0.043225,
     "end_time": "2023-06-04T17:05:14.579635",
     "exception": false,
     "start_time": "2023-06-04T17:05:14.536410",
     "status": "completed"
    },
    "tags": []
   },
   "outputs": [],
   "source": [
    "df1[\"Suspension\"] = df1[\"Suspension\"].str.strip()"
   ]
  },
  {
   "cell_type": "markdown",
   "id": "99e17093",
   "metadata": {
    "papermill": {
     "duration": 0.029082,
     "end_time": "2023-06-04T17:05:14.637809",
     "exception": false,
     "start_time": "2023-06-04T17:05:14.608727",
     "status": "completed"
    },
    "tags": []
   },
   "source": [
    "- **Cleaning Price Column**"
   ]
  },
  {
   "cell_type": "markdown",
   "id": "dd90308c",
   "metadata": {
    "papermill": {
     "duration": 0.027938,
     "end_time": "2023-06-04T17:05:14.694081",
     "exception": false,
     "start_time": "2023-06-04T17:05:14.666143",
     "status": "completed"
    },
    "tags": []
   },
   "source": [
    "*Firstly, we will Strip the Extra White Spaces from both ends in Price Column*"
   ]
  },
  {
   "cell_type": "code",
   "execution_count": 14,
   "id": "426fd35d",
   "metadata": {
    "execution": {
     "iopub.execute_input": "2023-06-04T17:05:14.755661Z",
     "iopub.status.busy": "2023-06-04T17:05:14.754531Z",
     "iopub.status.idle": "2023-06-04T17:05:14.764213Z",
     "shell.execute_reply": "2023-06-04T17:05:14.762492Z"
    },
    "papermill": {
     "duration": 0.044513,
     "end_time": "2023-06-04T17:05:14.767958",
     "exception": false,
     "start_time": "2023-06-04T17:05:14.723445",
     "status": "completed"
    },
    "tags": []
   },
   "outputs": [],
   "source": [
    "df1[\"Price\"] = df1[\"Price\"].str.strip()"
   ]
  },
  {
   "cell_type": "markdown",
   "id": "3ffb69a9",
   "metadata": {
    "papermill": {
     "duration": 0.033604,
     "end_time": "2023-06-04T17:05:14.837971",
     "exception": false,
     "start_time": "2023-06-04T17:05:14.804367",
     "status": "completed"
    },
    "tags": []
   },
   "source": [
    "*Here, we have created a Function which will convert the Price from (6.35 Lakh to 635000) and store it back to Price Column*"
   ]
  },
  {
   "cell_type": "code",
   "execution_count": 15,
   "id": "b4cfecb8",
   "metadata": {
    "execution": {
     "iopub.execute_input": "2023-06-04T17:05:14.903897Z",
     "iopub.status.busy": "2023-06-04T17:05:14.902464Z",
     "iopub.status.idle": "2023-06-04T17:05:14.941496Z",
     "shell.execute_reply": "2023-06-04T17:05:14.939944Z"
    },
    "papermill": {
     "duration": 0.07675,
     "end_time": "2023-06-04T17:05:14.945051",
     "exception": false,
     "start_time": "2023-06-04T17:05:14.868301",
     "status": "completed"
    },
    "tags": []
   },
   "outputs": [],
   "source": [
    "def price_cleaner(values):\n",
    "    output = values.split()\n",
    "    result = [eval(i) for i in output]\n",
    "    return np.prod(result)\n",
    "\n",
    "df1[\"Price\"] = df1[\"Price\"].str.strip()\n",
    "df1[\"Price\"] = df1[\"Price\"].str.replace(',','')\n",
    "df1[\"Price\"] = df1[\"Price\"].str.replace('Lakh','100000')\n",
    "df1[\"Price\"] = df1[\"Price\"].map(price_cleaner)"
   ]
  },
  {
   "cell_type": "markdown",
   "id": "bb7c363f",
   "metadata": {
    "papermill": {
     "duration": 0.028364,
     "end_time": "2023-06-04T17:05:15.003987",
     "exception": false,
     "start_time": "2023-06-04T17:05:14.975623",
     "status": "completed"
    },
    "tags": []
   },
   "source": [
    "*And, finally we will convert the Price into (int) DataType*"
   ]
  },
  {
   "cell_type": "code",
   "execution_count": 16,
   "id": "5edeff49",
   "metadata": {
    "execution": {
     "iopub.execute_input": "2023-06-04T17:05:15.063633Z",
     "iopub.status.busy": "2023-06-04T17:05:15.063055Z",
     "iopub.status.idle": "2023-06-04T17:05:15.070452Z",
     "shell.execute_reply": "2023-06-04T17:05:15.069233Z"
    },
    "papermill": {
     "duration": 0.041126,
     "end_time": "2023-06-04T17:05:15.073429",
     "exception": false,
     "start_time": "2023-06-04T17:05:15.032303",
     "status": "completed"
    },
    "tags": []
   },
   "outputs": [],
   "source": [
    "df1[\"Price\"] = df1[\"Price\"].astype(int)"
   ]
  },
  {
   "cell_type": "markdown",
   "id": "ecaf51ef",
   "metadata": {
    "papermill": {
     "duration": 0.027986,
     "end_time": "2023-06-04T17:05:15.132178",
     "exception": false,
     "start_time": "2023-06-04T17:05:15.104192",
     "status": "completed"
    },
    "tags": []
   },
   "source": [
    "- **Cleaning Car Model Column**"
   ]
  },
  {
   "cell_type": "markdown",
   "id": "3c55ae2d",
   "metadata": {
    "papermill": {
     "duration": 0.028263,
     "end_time": "2023-06-04T17:05:15.189712",
     "exception": false,
     "start_time": "2023-06-04T17:05:15.161449",
     "status": "completed"
    },
    "tags": []
   },
   "source": [
    "*Firstly, we will Strip the Extra White Spaces from both ends in Car Model Column*"
   ]
  },
  {
   "cell_type": "code",
   "execution_count": 17,
   "id": "f8d7bf94",
   "metadata": {
    "execution": {
     "iopub.execute_input": "2023-06-04T17:05:15.248776Z",
     "iopub.status.busy": "2023-06-04T17:05:15.248190Z",
     "iopub.status.idle": "2023-06-04T17:05:15.257244Z",
     "shell.execute_reply": "2023-06-04T17:05:15.255667Z"
    },
    "papermill": {
     "duration": 0.042086,
     "end_time": "2023-06-04T17:05:15.259978",
     "exception": false,
     "start_time": "2023-06-04T17:05:15.217892",
     "status": "completed"
    },
    "tags": []
   },
   "outputs": [],
   "source": [
    "df1[\"Car Model\"] = df1[\"Car Model\"].str.strip()"
   ]
  },
  {
   "cell_type": "markdown",
   "id": "f4c03226",
   "metadata": {
    "papermill": {
     "duration": 0.028137,
     "end_time": "2023-06-04T17:05:15.316393",
     "exception": false,
     "start_time": "2023-06-04T17:05:15.288256",
     "status": "completed"
    },
    "tags": []
   },
   "source": [
    "*Then, we will Split the String with Space Delimiter and keep the First Three Words*"
   ]
  },
  {
   "cell_type": "code",
   "execution_count": 18,
   "id": "db7c23fa",
   "metadata": {
    "execution": {
     "iopub.execute_input": "2023-06-04T17:05:15.376837Z",
     "iopub.status.busy": "2023-06-04T17:05:15.376216Z",
     "iopub.status.idle": "2023-06-04T17:05:15.389445Z",
     "shell.execute_reply": "2023-06-04T17:05:15.388090Z"
    },
    "papermill": {
     "duration": 0.0477,
     "end_time": "2023-06-04T17:05:15.392397",
     "exception": false,
     "start_time": "2023-06-04T17:05:15.344697",
     "status": "completed"
    },
    "tags": []
   },
   "outputs": [],
   "source": [
    "df1[\"Car Model\"] = df1[\"Car Model\"].str.split(\" \").str.slice(start = 0,stop = 3).str.join(\" \")"
   ]
  },
  {
   "cell_type": "markdown",
   "id": "32c44d11",
   "metadata": {
    "papermill": {
     "duration": 0.028283,
     "end_time": "2023-06-04T17:05:15.450152",
     "exception": false,
     "start_time": "2023-06-04T17:05:15.421869",
     "status": "completed"
    },
    "tags": []
   },
   "source": [
    "- **Saving Cleaned Data ot CSV File**"
   ]
  },
  {
   "cell_type": "code",
   "execution_count": 19,
   "id": "a6bdb7ba",
   "metadata": {
    "execution": {
     "iopub.execute_input": "2023-06-04T17:05:15.511248Z",
     "iopub.status.busy": "2023-06-04T17:05:15.510260Z",
     "iopub.status.idle": "2023-06-04T17:05:15.529812Z",
     "shell.execute_reply": "2023-06-04T17:05:15.528057Z"
    },
    "papermill": {
     "duration": 0.053791,
     "end_time": "2023-06-04T17:05:15.533647",
     "exception": false,
     "start_time": "2023-06-04T17:05:15.479856",
     "status": "completed"
    },
    "tags": []
   },
   "outputs": [],
   "source": [
    "df1.to_csv(\"Cleaned_Car_Data.csv\")"
   ]
  },
  {
   "cell_type": "markdown",
   "id": "3cd67670",
   "metadata": {
    "papermill": {
     "duration": 0.031772,
     "end_time": "2023-06-04T17:05:15.595080",
     "exception": false,
     "start_time": "2023-06-04T17:05:15.563308",
     "status": "completed"
    },
    "tags": []
   },
   "source": [
    "<h1 style=\"color:blue\" align=\"center\">Data Visualization</h1>"
   ]
  },
  {
   "cell_type": "markdown",
   "id": "3dbf0c38",
   "metadata": {
    "papermill": {
     "duration": 0.034009,
     "end_time": "2023-06-04T17:05:15.659545",
     "exception": false,
     "start_time": "2023-06-04T17:05:15.625536",
     "status": "completed"
    },
    "tags": []
   },
   "source": [
    "- **Relationship of Year with Price**"
   ]
  },
  {
   "cell_type": "code",
   "execution_count": 20,
   "id": "a32fb9a4",
   "metadata": {
    "execution": {
     "iopub.execute_input": "2023-06-04T17:05:15.727698Z",
     "iopub.status.busy": "2023-06-04T17:05:15.727192Z",
     "iopub.status.idle": "2023-06-04T17:05:17.733976Z",
     "shell.execute_reply": "2023-06-04T17:05:17.732105Z"
    },
    "papermill": {
     "duration": 2.043134,
     "end_time": "2023-06-04T17:05:17.736866",
     "exception": false,
     "start_time": "2023-06-04T17:05:15.693732",
     "status": "completed"
    },
    "tags": []
   },
   "outputs": [
    {
     "name": "stderr",
     "output_type": "stream",
     "text": [
      "/opt/conda/lib/python3.7/site-packages/ipykernel_launcher.py:3: UserWarning: FixedFormatter should only be used together with FixedLocator\n",
      "  This is separate from the ipykernel package so we can avoid doing imports until\n"
     ]
    },
    {
     "data": {
      "image/png": "[encoded data removed]",
      "text/plain": [
       "<Figure size 2500x1500 with 1 Axes>"
      ]
     },
     "metadata": {},
     "output_type": "display_data"
    }
   ],
   "source": [
    "plt.figure(figsize = (25,15))\n",
    "ax = sns.swarmplot(x = 'Year',y = 'Price',data = df1)\n",
    "ax.set_xticklabels(ax.get_xticklabels())\n",
    "plt.show()"
   ]
  },
  {
   "cell_type": "markdown",
   "id": "dac94bfc",
   "metadata": {
    "papermill": {
     "duration": 0.030795,
     "end_time": "2023-06-04T17:05:17.797873",
     "exception": false,
     "start_time": "2023-06-04T17:05:17.767078",
     "status": "completed"
    },
    "tags": []
   },
   "source": [
    "- **Relationship of kms Driven with Price**"
   ]
  },
  {
   "cell_type": "code",
   "execution_count": 21,
   "id": "3cb5e5eb",
   "metadata": {
    "execution": {
     "iopub.execute_input": "2023-06-04T17:05:17.863517Z",
     "iopub.status.busy": "2023-06-04T17:05:17.862405Z",
     "iopub.status.idle": "2023-06-04T17:05:18.367634Z",
     "shell.execute_reply": "2023-06-04T17:05:18.365827Z"
    },
    "papermill": {
     "duration": 0.542734,
     "end_time": "2023-06-04T17:05:18.371003",
     "exception": false,
     "start_time": "2023-06-04T17:05:17.828269",
     "status": "completed"
    },
    "tags": []
   },
   "outputs": [
    {
     "data": {
      "text/plain": [
       "<seaborn.axisgrid.FacetGrid at 0x7f1fb16c0150>"
      ]
     },
     "execution_count": 21,
     "metadata": {},
     "output_type": "execute_result"
    },
    {
     "data": {
      "image/png": "[encoded data removed]",
      "text/plain": [
       "<Figure size 1400x700 with 1 Axes>"
      ]
     },
     "metadata": {},
     "output_type": "display_data"
    }
   ],
   "source": [
    "sns.relplot(x = 'kms Driven',y = 'Price',data = df1,height = 7,aspect = 2)"
   ]
  },
  {
   "cell_type": "markdown",
   "id": "7173a335",
   "metadata": {
    "papermill": {
     "duration": 0.032594,
     "end_time": "2023-06-04T17:05:18.436229",
     "exception": false,
     "start_time": "2023-06-04T17:05:18.403635",
     "status": "completed"
    },
    "tags": []
   },
   "source": [
    "- **Relationship of Price with Car Model, Suspension as Hue**"
   ]
  },
  {
   "cell_type": "code",
   "execution_count": 22,
   "id": "ab94751b",
   "metadata": {
    "execution": {
     "iopub.execute_input": "2023-06-04T17:05:18.505618Z",
     "iopub.status.busy": "2023-06-04T17:05:18.505037Z",
     "iopub.status.idle": "2023-06-04T17:05:21.004524Z",
     "shell.execute_reply": "2023-06-04T17:05:21.002847Z"
    },
    "papermill": {
     "duration": 2.54199,
     "end_time": "2023-06-04T17:05:21.011397",
     "exception": false,
     "start_time": "2023-06-04T17:05:18.469407",
     "status": "completed"
    },
    "tags": []
   },
   "outputs": [
    {
     "data": {
      "text/plain": [
       "<seaborn.axisgrid.FacetGrid at 0x7f1fb1914650>"
      ]
     },
     "execution_count": 22,
     "metadata": {},
     "output_type": "execute_result"
    },
    {
     "data": {
      "image/png": "[encoded data removed]",
      "text/plain": [
       "<Figure size 1521.38x700 with 1 Axes>"
      ]
     },
     "metadata": {},
     "output_type": "display_data"
    }
   ],
   "source": [
    "ax = sns.relplot(x = 'Car Model',y = 'Price',data = df1,hue = 'Suspension',height = 7,aspect = 2)\n",
    "ax.set_xticklabels(rotation = 40,ha = 'right')"
   ]
  },
  {
   "cell_type": "markdown",
   "id": "79767156",
   "metadata": {
    "papermill": {
     "duration": 0.035591,
     "end_time": "2023-06-04T17:05:21.084814",
     "exception": false,
     "start_time": "2023-06-04T17:05:21.049223",
     "status": "completed"
    },
    "tags": []
   },
   "source": [
    "<h1 style=\"color:blue\" align=\"center\">Dummy Variable</h1>"
   ]
  },
  {
   "cell_type": "markdown",
   "id": "e9a8dea2",
   "metadata": {
    "papermill": {
     "duration": 0.034033,
     "end_time": "2023-06-04T17:05:21.157073",
     "exception": false,
     "start_time": "2023-06-04T17:05:21.123040",
     "status": "completed"
    },
    "tags": []
   },
   "source": [
    "- **Creating Dummy Variable for Fuel Type Column**"
   ]
  },
  {
   "cell_type": "code",
   "execution_count": 23,
   "id": "ba1c72bb",
   "metadata": {
    "execution": {
     "iopub.execute_input": "2023-06-04T17:05:21.231001Z",
     "iopub.status.busy": "2023-06-04T17:05:21.230029Z",
     "iopub.status.idle": "2023-06-04T17:05:21.240784Z",
     "shell.execute_reply": "2023-06-04T17:05:21.238712Z"
    },
    "papermill": {
     "duration": 0.050993,
     "end_time": "2023-06-04T17:05:21.244118",
     "exception": false,
     "start_time": "2023-06-04T17:05:21.193125",
     "status": "completed"
    },
    "tags": []
   },
   "outputs": [],
   "source": [
    "dummies1 = pd.get_dummies(df1[\"Fuel Type\"],dtype = \"int\")"
   ]
  },
  {
   "cell_type": "markdown",
   "id": "51fb8c0b",
   "metadata": {
    "papermill": {
     "duration": 0.035906,
     "end_time": "2023-06-04T17:05:21.315536",
     "exception": false,
     "start_time": "2023-06-04T17:05:21.279630",
     "status": "completed"
    },
    "tags": []
   },
   "source": [
    "- **Converting dummies1 to DataFrame**"
   ]
  },
  {
   "cell_type": "code",
   "execution_count": 24,
   "id": "d325805b",
   "metadata": {
    "execution": {
     "iopub.execute_input": "2023-06-04T17:05:21.387790Z",
     "iopub.status.busy": "2023-06-04T17:05:21.387186Z",
     "iopub.status.idle": "2023-06-04T17:05:21.403416Z",
     "shell.execute_reply": "2023-06-04T17:05:21.401693Z"
    },
    "papermill": {
     "duration": 0.056552,
     "end_time": "2023-06-04T17:05:21.406835",
     "exception": false,
     "start_time": "2023-06-04T17:05:21.350283",
     "status": "completed"
    },
    "tags": []
   },
   "outputs": [
    {
     "data": {
      "text/html": [
       "<div>\n",
       "<style scoped>\n",
       "    .dataframe tbody tr th:only-of-type {\n",
       "        vertical-align: middle;\n",
       "    }\n",
       "\n",
       "    .dataframe tbody tr th {\n",
       "        vertical-align: top;\n",
       "    }\n",
       "\n",
       "    .dataframe thead th {\n",
       "        text-align: right;\n",
       "    }\n",
       "</style>\n",
       "<table border=\"1\" class=\"dataframe\">\n",
       "  <thead>\n",
       "    <tr style=\"text-align: right;\">\n",
       "      <th></th>\n",
       "      <th>CNG</th>\n",
       "      <th>Diesel</th>\n",
       "      <th>Petrol</th>\n",
       "    </tr>\n",
       "  </thead>\n",
       "  <tbody>\n",
       "    <tr>\n",
       "      <th>0</th>\n",
       "      <td>0</td>\n",
       "      <td>0</td>\n",
       "      <td>1</td>\n",
       "    </tr>\n",
       "    <tr>\n",
       "      <th>1</th>\n",
       "      <td>0</td>\n",
       "      <td>0</td>\n",
       "      <td>1</td>\n",
       "    </tr>\n",
       "    <tr>\n",
       "      <th>2</th>\n",
       "      <td>0</td>\n",
       "      <td>0</td>\n",
       "      <td>1</td>\n",
       "    </tr>\n",
       "    <tr>\n",
       "      <th>3</th>\n",
       "      <td>0</td>\n",
       "      <td>0</td>\n",
       "      <td>1</td>\n",
       "    </tr>\n",
       "    <tr>\n",
       "      <th>4</th>\n",
       "      <td>0</td>\n",
       "      <td>0</td>\n",
       "      <td>1</td>\n",
       "    </tr>\n",
       "  </tbody>\n",
       "</table>\n",
       "</div>"
      ],
      "text/plain": [
       "   CNG  Diesel  Petrol\n",
       "0    0       0       1\n",
       "1    0       0       1\n",
       "2    0       0       1\n",
       "3    0       0       1\n",
       "4    0       0       1"
      ]
     },
     "execution_count": 24,
     "metadata": {},
     "output_type": "execute_result"
    }
   ],
   "source": [
    "fuel_dummies = pd.DataFrame(dummies1)\n",
    "fuel_dummies.head()"
   ]
  },
  {
   "cell_type": "markdown",
   "id": "ce2dbd0c",
   "metadata": {
    "papermill": {
     "duration": 0.037486,
     "end_time": "2023-06-04T17:05:21.482028",
     "exception": false,
     "start_time": "2023-06-04T17:05:21.444542",
     "status": "completed"
    },
    "tags": []
   },
   "source": [
    "- **Merging df1 and fuel_dummies and store it into a New DataFrame**"
   ]
  },
  {
   "cell_type": "code",
   "execution_count": 25,
   "id": "90a0f1cf",
   "metadata": {
    "execution": {
     "iopub.execute_input": "2023-06-04T17:05:21.565495Z",
     "iopub.status.busy": "2023-06-04T17:05:21.564961Z",
     "iopub.status.idle": "2023-06-04T17:05:21.574109Z",
     "shell.execute_reply": "2023-06-04T17:05:21.572953Z"
    },
    "papermill": {
     "duration": 0.053531,
     "end_time": "2023-06-04T17:05:21.577802",
     "exception": false,
     "start_time": "2023-06-04T17:05:21.524271",
     "status": "completed"
    },
    "tags": []
   },
   "outputs": [],
   "source": [
    "df2 = pd.concat([df1,fuel_dummies],axis = \"columns\")"
   ]
  },
  {
   "cell_type": "markdown",
   "id": "e2804749",
   "metadata": {
    "papermill": {
     "duration": 0.036146,
     "end_time": "2023-06-04T17:05:21.652792",
     "exception": false,
     "start_time": "2023-06-04T17:05:21.616646",
     "status": "completed"
    },
    "tags": []
   },
   "source": [
    "- **Creating Dummy Variable for Suspension Column**"
   ]
  },
  {
   "cell_type": "code",
   "execution_count": 26,
   "id": "ce551f5b",
   "metadata": {
    "execution": {
     "iopub.execute_input": "2023-06-04T17:05:21.738778Z",
     "iopub.status.busy": "2023-06-04T17:05:21.737681Z",
     "iopub.status.idle": "2023-06-04T17:05:21.747348Z",
     "shell.execute_reply": "2023-06-04T17:05:21.745594Z"
    },
    "papermill": {
     "duration": 0.061028,
     "end_time": "2023-06-04T17:05:21.753435",
     "exception": false,
     "start_time": "2023-06-04T17:05:21.692407",
     "status": "completed"
    },
    "tags": []
   },
   "outputs": [],
   "source": [
    "dummies2 = pd.get_dummies(df2[\"Suspension\"],dtype = \"int\")"
   ]
  },
  {
   "cell_type": "markdown",
   "id": "625d8884",
   "metadata": {
    "papermill": {
     "duration": 0.043231,
     "end_time": "2023-06-04T17:05:21.843712",
     "exception": false,
     "start_time": "2023-06-04T17:05:21.800481",
     "status": "completed"
    },
    "tags": []
   },
   "source": [
    "- **Converting dummies2 to DataFrame**"
   ]
  },
  {
   "cell_type": "code",
   "execution_count": 27,
   "id": "c1b7c48b",
   "metadata": {
    "execution": {
     "iopub.execute_input": "2023-06-04T17:05:21.918871Z",
     "iopub.status.busy": "2023-06-04T17:05:21.918075Z",
     "iopub.status.idle": "2023-06-04T17:05:21.929237Z",
     "shell.execute_reply": "2023-06-04T17:05:21.927834Z"
    },
    "papermill": {
     "duration": 0.052719,
     "end_time": "2023-06-04T17:05:21.933343",
     "exception": false,
     "start_time": "2023-06-04T17:05:21.880624",
     "status": "completed"
    },
    "tags": []
   },
   "outputs": [
    {
     "data": {
      "text/html": [
       "<div>\n",
       "<style scoped>\n",
       "    .dataframe tbody tr th:only-of-type {\n",
       "        vertical-align: middle;\n",
       "    }\n",
       "\n",
       "    .dataframe tbody tr th {\n",
       "        vertical-align: top;\n",
       "    }\n",
       "\n",
       "    .dataframe thead th {\n",
       "        text-align: right;\n",
       "    }\n",
       "</style>\n",
       "<table border=\"1\" class=\"dataframe\">\n",
       "  <thead>\n",
       "    <tr style=\"text-align: right;\">\n",
       "      <th></th>\n",
       "      <th>Automatic</th>\n",
       "      <th>Manual</th>\n",
       "    </tr>\n",
       "  </thead>\n",
       "  <tbody>\n",
       "    <tr>\n",
       "      <th>0</th>\n",
       "      <td>1</td>\n",
       "      <td>0</td>\n",
       "    </tr>\n",
       "    <tr>\n",
       "      <th>1</th>\n",
       "      <td>1</td>\n",
       "      <td>0</td>\n",
       "    </tr>\n",
       "    <tr>\n",
       "      <th>2</th>\n",
       "      <td>1</td>\n",
       "      <td>0</td>\n",
       "    </tr>\n",
       "    <tr>\n",
       "      <th>3</th>\n",
       "      <td>1</td>\n",
       "      <td>0</td>\n",
       "    </tr>\n",
       "    <tr>\n",
       "      <th>4</th>\n",
       "      <td>0</td>\n",
       "      <td>1</td>\n",
       "    </tr>\n",
       "  </tbody>\n",
       "</table>\n",
       "</div>"
      ],
      "text/plain": [
       "   Automatic  Manual\n",
       "0          1       0\n",
       "1          1       0\n",
       "2          1       0\n",
       "3          1       0\n",
       "4          0       1"
      ]
     },
     "execution_count": 27,
     "metadata": {},
     "output_type": "execute_result"
    }
   ],
   "source": [
    "suspension_dummies = pd.DataFrame(dummies2)\n",
    "suspension_dummies.head()"
   ]
  },
  {
   "cell_type": "markdown",
   "id": "c84694eb",
   "metadata": {
    "papermill": {
     "duration": 0.036645,
     "end_time": "2023-06-04T17:05:22.008670",
     "exception": false,
     "start_time": "2023-06-04T17:05:21.972025",
     "status": "completed"
    },
    "tags": []
   },
   "source": [
    "- **Merging df2 and suspension_dummies and store it into a New DataFrame**"
   ]
  },
  {
   "cell_type": "code",
   "execution_count": 28,
   "id": "a87cffae",
   "metadata": {
    "execution": {
     "iopub.execute_input": "2023-06-04T17:05:22.085084Z",
     "iopub.status.busy": "2023-06-04T17:05:22.084585Z",
     "iopub.status.idle": "2023-06-04T17:05:22.091187Z",
     "shell.execute_reply": "2023-06-04T17:05:22.090063Z"
    },
    "papermill": {
     "duration": 0.048803,
     "end_time": "2023-06-04T17:05:22.094988",
     "exception": false,
     "start_time": "2023-06-04T17:05:22.046185",
     "status": "completed"
    },
    "tags": []
   },
   "outputs": [],
   "source": [
    "df3 = pd.concat([df2,suspension_dummies],axis = \"columns\")"
   ]
  },
  {
   "cell_type": "markdown",
   "id": "5ba64fdb",
   "metadata": {
    "papermill": {
     "duration": 0.034484,
     "end_time": "2023-06-04T17:05:22.167332",
     "exception": false,
     "start_time": "2023-06-04T17:05:22.132848",
     "status": "completed"
    },
    "tags": []
   },
   "source": [
    "- **Creating Dummy Variable for Car Model Column**"
   ]
  },
  {
   "cell_type": "code",
   "execution_count": 29,
   "id": "29a2f1da",
   "metadata": {
    "execution": {
     "iopub.execute_input": "2023-06-04T17:05:22.240831Z",
     "iopub.status.busy": "2023-06-04T17:05:22.239965Z",
     "iopub.status.idle": "2023-06-04T17:05:22.249053Z",
     "shell.execute_reply": "2023-06-04T17:05:22.246960Z"
    },
    "papermill": {
     "duration": 0.051086,
     "end_time": "2023-06-04T17:05:22.253041",
     "exception": false,
     "start_time": "2023-06-04T17:05:22.201955",
     "status": "completed"
    },
    "tags": []
   },
   "outputs": [],
   "source": [
    "dummies3 = pd.get_dummies(df3[\"Car Model\"],dtype = \"int\")"
   ]
  },
  {
   "cell_type": "markdown",
   "id": "0868ff6f",
   "metadata": {
    "papermill": {
     "duration": 0.038544,
     "end_time": "2023-06-04T17:05:22.326848",
     "exception": false,
     "start_time": "2023-06-04T17:05:22.288304",
     "status": "completed"
    },
    "tags": []
   },
   "source": [
    "- **Converting dummies3 to DataFrame**"
   ]
  },
  {
   "cell_type": "code",
   "execution_count": 30,
   "id": "b2d3dc5b",
   "metadata": {
    "execution": {
     "iopub.execute_input": "2023-06-04T17:05:22.405714Z",
     "iopub.status.busy": "2023-06-04T17:05:22.404622Z",
     "iopub.status.idle": "2023-06-04T17:05:22.434934Z",
     "shell.execute_reply": "2023-06-04T17:05:22.432365Z"
    },
    "papermill": {
     "duration": 0.07235,
     "end_time": "2023-06-04T17:05:22.438973",
     "exception": false,
     "start_time": "2023-06-04T17:05:22.366623",
     "status": "completed"
    },
    "tags": []
   },
   "outputs": [
    {
     "data": {
      "text/html": [
       "<div>\n",
       "<style scoped>\n",
       "    .dataframe tbody tr th:only-of-type {\n",
       "        vertical-align: middle;\n",
       "    }\n",
       "\n",
       "    .dataframe tbody tr th {\n",
       "        vertical-align: top;\n",
       "    }\n",
       "\n",
       "    .dataframe thead th {\n",
       "        text-align: right;\n",
       "    }\n",
       "</style>\n",
       "<table border=\"1\" class=\"dataframe\">\n",
       "  <thead>\n",
       "    <tr style=\"text-align: right;\">\n",
       "      <th></th>\n",
       "      <th>Honda Accord 2.4</th>\n",
       "      <th>Honda Accord VTi-L</th>\n",
       "      <th>Honda Amaze E</th>\n",
       "      <th>Honda Amaze EX</th>\n",
       "      <th>Honda Amaze Exclusive</th>\n",
       "      <th>Honda Amaze S</th>\n",
       "      <th>Honda Amaze SX</th>\n",
       "      <th>Honda Amaze V</th>\n",
       "      <th>Honda Amaze VX</th>\n",
       "      <th>Honda Amaze i-DTEC</th>\n",
       "      <th>...</th>\n",
       "      <th>Honda Jazz X</th>\n",
       "      <th>Honda Mobilio E</th>\n",
       "      <th>Honda Mobilio RS</th>\n",
       "      <th>Honda Mobilio S</th>\n",
       "      <th>Honda Mobilio V</th>\n",
       "      <th>Honda WR-V Edge</th>\n",
       "      <th>Honda WR-V SV</th>\n",
       "      <th>Honda WR-V VX</th>\n",
       "      <th>Honda WR-V i-DTEC</th>\n",
       "      <th>Honda WR-V i-VTEC</th>\n",
       "    </tr>\n",
       "  </thead>\n",
       "  <tbody>\n",
       "    <tr>\n",
       "      <th>0</th>\n",
       "      <td>0</td>\n",
       "      <td>0</td>\n",
       "      <td>0</td>\n",
       "      <td>0</td>\n",
       "      <td>0</td>\n",
       "      <td>0</td>\n",
       "      <td>0</td>\n",
       "      <td>0</td>\n",
       "      <td>0</td>\n",
       "      <td>0</td>\n",
       "      <td>...</td>\n",
       "      <td>0</td>\n",
       "      <td>0</td>\n",
       "      <td>0</td>\n",
       "      <td>0</td>\n",
       "      <td>0</td>\n",
       "      <td>0</td>\n",
       "      <td>0</td>\n",
       "      <td>0</td>\n",
       "      <td>0</td>\n",
       "      <td>0</td>\n",
       "    </tr>\n",
       "    <tr>\n",
       "      <th>1</th>\n",
       "      <td>0</td>\n",
       "      <td>0</td>\n",
       "      <td>0</td>\n",
       "      <td>0</td>\n",
       "      <td>0</td>\n",
       "      <td>0</td>\n",
       "      <td>0</td>\n",
       "      <td>0</td>\n",
       "      <td>0</td>\n",
       "      <td>0</td>\n",
       "      <td>...</td>\n",
       "      <td>0</td>\n",
       "      <td>0</td>\n",
       "      <td>0</td>\n",
       "      <td>0</td>\n",
       "      <td>0</td>\n",
       "      <td>0</td>\n",
       "      <td>0</td>\n",
       "      <td>0</td>\n",
       "      <td>0</td>\n",
       "      <td>0</td>\n",
       "    </tr>\n",
       "    <tr>\n",
       "      <th>2</th>\n",
       "      <td>0</td>\n",
       "      <td>0</td>\n",
       "      <td>0</td>\n",
       "      <td>0</td>\n",
       "      <td>0</td>\n",
       "      <td>0</td>\n",
       "      <td>0</td>\n",
       "      <td>0</td>\n",
       "      <td>0</td>\n",
       "      <td>0</td>\n",
       "      <td>...</td>\n",
       "      <td>0</td>\n",
       "      <td>0</td>\n",
       "      <td>0</td>\n",
       "      <td>0</td>\n",
       "      <td>0</td>\n",
       "      <td>0</td>\n",
       "      <td>0</td>\n",
       "      <td>0</td>\n",
       "      <td>0</td>\n",
       "      <td>0</td>\n",
       "    </tr>\n",
       "    <tr>\n",
       "      <th>3</th>\n",
       "      <td>0</td>\n",
       "      <td>0</td>\n",
       "      <td>0</td>\n",
       "      <td>0</td>\n",
       "      <td>0</td>\n",
       "      <td>0</td>\n",
       "      <td>0</td>\n",
       "      <td>0</td>\n",
       "      <td>0</td>\n",
       "      <td>0</td>\n",
       "      <td>...</td>\n",
       "      <td>0</td>\n",
       "      <td>0</td>\n",
       "      <td>0</td>\n",
       "      <td>0</td>\n",
       "      <td>0</td>\n",
       "      <td>0</td>\n",
       "      <td>0</td>\n",
       "      <td>0</td>\n",
       "      <td>0</td>\n",
       "      <td>0</td>\n",
       "    </tr>\n",
       "    <tr>\n",
       "      <th>4</th>\n",
       "      <td>0</td>\n",
       "      <td>0</td>\n",
       "      <td>0</td>\n",
       "      <td>0</td>\n",
       "      <td>0</td>\n",
       "      <td>0</td>\n",
       "      <td>0</td>\n",
       "      <td>0</td>\n",
       "      <td>0</td>\n",
       "      <td>0</td>\n",
       "      <td>...</td>\n",
       "      <td>0</td>\n",
       "      <td>0</td>\n",
       "      <td>0</td>\n",
       "      <td>0</td>\n",
       "      <td>0</td>\n",
       "      <td>0</td>\n",
       "      <td>0</td>\n",
       "      <td>0</td>\n",
       "      <td>0</td>\n",
       "      <td>0</td>\n",
       "    </tr>\n",
       "  </tbody>\n",
       "</table>\n",
       "<p>5 rows × 60 columns</p>\n",
       "</div>"
      ],
      "text/plain": [
       "   Honda Accord 2.4  Honda Accord VTi-L  Honda Amaze E  Honda Amaze EX  \\\n",
       "0                 0                   0              0               0   \n",
       "1                 0                   0              0               0   \n",
       "2                 0                   0              0               0   \n",
       "3                 0                   0              0               0   \n",
       "4                 0                   0              0               0   \n",
       "\n",
       "   Honda Amaze Exclusive  Honda Amaze S  Honda Amaze SX  Honda Amaze V  \\\n",
       "0                      0              0               0              0   \n",
       "1                      0              0               0              0   \n",
       "2                      0              0               0              0   \n",
       "3                      0              0               0              0   \n",
       "4                      0              0               0              0   \n",
       "\n",
       "   Honda Amaze VX  Honda Amaze i-DTEC  ...  Honda Jazz X  Honda Mobilio E  \\\n",
       "0               0                   0  ...             0                0   \n",
       "1               0                   0  ...             0                0   \n",
       "2               0                   0  ...             0                0   \n",
       "3               0                   0  ...             0                0   \n",
       "4               0                   0  ...             0                0   \n",
       "\n",
       "   Honda Mobilio RS  Honda Mobilio S  Honda Mobilio V  Honda WR-V Edge  \\\n",
       "0                 0                0                0                0   \n",
       "1                 0                0                0                0   \n",
       "2                 0                0                0                0   \n",
       "3                 0                0                0                0   \n",
       "4                 0                0                0                0   \n",
       "\n",
       "   Honda WR-V SV  Honda WR-V VX  Honda WR-V i-DTEC  Honda WR-V i-VTEC  \n",
       "0              0              0                  0                  0  \n",
       "1              0              0                  0                  0  \n",
       "2              0              0                  0                  0  \n",
       "3              0              0                  0                  0  \n",
       "4              0              0                  0                  0  \n",
       "\n",
       "[5 rows x 60 columns]"
      ]
     },
     "execution_count": 30,
     "metadata": {},
     "output_type": "execute_result"
    }
   ],
   "source": [
    "car_dummies = pd.DataFrame(dummies3)\n",
    "car_dummies.head()"
   ]
  },
  {
   "cell_type": "markdown",
   "id": "1a5ecac7",
   "metadata": {
    "papermill": {
     "duration": 0.036299,
     "end_time": "2023-06-04T17:05:22.515469",
     "exception": false,
     "start_time": "2023-06-04T17:05:22.479170",
     "status": "completed"
    },
    "tags": []
   },
   "source": [
    "- **Merging df3 and car_dummies and store it into a New DataFrame**"
   ]
  },
  {
   "cell_type": "code",
   "execution_count": 31,
   "id": "091b75c6",
   "metadata": {
    "execution": {
     "iopub.execute_input": "2023-06-04T17:05:22.593685Z",
     "iopub.status.busy": "2023-06-04T17:05:22.593168Z",
     "iopub.status.idle": "2023-06-04T17:05:22.601906Z",
     "shell.execute_reply": "2023-06-04T17:05:22.600285Z"
    },
    "papermill": {
     "duration": 0.052708,
     "end_time": "2023-06-04T17:05:22.604916",
     "exception": false,
     "start_time": "2023-06-04T17:05:22.552208",
     "status": "completed"
    },
    "tags": []
   },
   "outputs": [],
   "source": [
    "df4 = pd.concat([df3,car_dummies],axis = \"columns\")"
   ]
  },
  {
   "cell_type": "markdown",
   "id": "c63b828a",
   "metadata": {
    "papermill": {
     "duration": 0.03765,
     "end_time": "2023-06-04T17:05:22.678936",
     "exception": false,
     "start_time": "2023-06-04T17:05:22.641286",
     "status": "completed"
    },
    "tags": []
   },
   "source": [
    "- **Dropping Fuel Type, Suspension, Car Model Columns after Converting it into Dummies**"
   ]
  },
  {
   "cell_type": "code",
   "execution_count": 32,
   "id": "0ffe5967",
   "metadata": {
    "execution": {
     "iopub.execute_input": "2023-06-04T17:05:22.755762Z",
     "iopub.status.busy": "2023-06-04T17:05:22.755221Z",
     "iopub.status.idle": "2023-06-04T17:05:22.784423Z",
     "shell.execute_reply": "2023-06-04T17:05:22.782915Z"
    },
    "papermill": {
     "duration": 0.07109,
     "end_time": "2023-06-04T17:05:22.787891",
     "exception": false,
     "start_time": "2023-06-04T17:05:22.716801",
     "status": "completed"
    },
    "tags": []
   },
   "outputs": [
    {
     "data": {
      "text/html": [
       "<div>\n",
       "<style scoped>\n",
       "    .dataframe tbody tr th:only-of-type {\n",
       "        vertical-align: middle;\n",
       "    }\n",
       "\n",
       "    .dataframe tbody tr th {\n",
       "        vertical-align: top;\n",
       "    }\n",
       "\n",
       "    .dataframe thead th {\n",
       "        text-align: right;\n",
       "    }\n",
       "</style>\n",
       "<table border=\"1\" class=\"dataframe\">\n",
       "  <thead>\n",
       "    <tr style=\"text-align: right;\">\n",
       "      <th></th>\n",
       "      <th>Year</th>\n",
       "      <th>kms Driven</th>\n",
       "      <th>Price</th>\n",
       "      <th>CNG</th>\n",
       "      <th>Diesel</th>\n",
       "      <th>Petrol</th>\n",
       "      <th>Automatic</th>\n",
       "      <th>Manual</th>\n",
       "      <th>Honda Accord 2.4</th>\n",
       "      <th>Honda Accord VTi-L</th>\n",
       "      <th>...</th>\n",
       "      <th>Honda Jazz X</th>\n",
       "      <th>Honda Mobilio E</th>\n",
       "      <th>Honda Mobilio RS</th>\n",
       "      <th>Honda Mobilio S</th>\n",
       "      <th>Honda Mobilio V</th>\n",
       "      <th>Honda WR-V Edge</th>\n",
       "      <th>Honda WR-V SV</th>\n",
       "      <th>Honda WR-V VX</th>\n",
       "      <th>Honda WR-V i-DTEC</th>\n",
       "      <th>Honda WR-V i-VTEC</th>\n",
       "    </tr>\n",
       "  </thead>\n",
       "  <tbody>\n",
       "    <tr>\n",
       "      <th>0</th>\n",
       "      <td>2019</td>\n",
       "      <td>19006</td>\n",
       "      <td>928999</td>\n",
       "      <td>0</td>\n",
       "      <td>0</td>\n",
       "      <td>1</td>\n",
       "      <td>1</td>\n",
       "      <td>0</td>\n",
       "      <td>0</td>\n",
       "      <td>0</td>\n",
       "      <td>...</td>\n",
       "      <td>0</td>\n",
       "      <td>0</td>\n",
       "      <td>0</td>\n",
       "      <td>0</td>\n",
       "      <td>0</td>\n",
       "      <td>0</td>\n",
       "      <td>0</td>\n",
       "      <td>0</td>\n",
       "      <td>0</td>\n",
       "      <td>0</td>\n",
       "    </tr>\n",
       "    <tr>\n",
       "      <th>1</th>\n",
       "      <td>2021</td>\n",
       "      <td>11936</td>\n",
       "      <td>1395000</td>\n",
       "      <td>0</td>\n",
       "      <td>0</td>\n",
       "      <td>1</td>\n",
       "      <td>1</td>\n",
       "      <td>0</td>\n",
       "      <td>0</td>\n",
       "      <td>0</td>\n",
       "      <td>...</td>\n",
       "      <td>0</td>\n",
       "      <td>0</td>\n",
       "      <td>0</td>\n",
       "      <td>0</td>\n",
       "      <td>0</td>\n",
       "      <td>0</td>\n",
       "      <td>0</td>\n",
       "      <td>0</td>\n",
       "      <td>0</td>\n",
       "      <td>0</td>\n",
       "    </tr>\n",
       "    <tr>\n",
       "      <th>2</th>\n",
       "      <td>2018</td>\n",
       "      <td>29635</td>\n",
       "      <td>994999</td>\n",
       "      <td>0</td>\n",
       "      <td>0</td>\n",
       "      <td>1</td>\n",
       "      <td>1</td>\n",
       "      <td>0</td>\n",
       "      <td>0</td>\n",
       "      <td>0</td>\n",
       "      <td>...</td>\n",
       "      <td>0</td>\n",
       "      <td>0</td>\n",
       "      <td>0</td>\n",
       "      <td>0</td>\n",
       "      <td>0</td>\n",
       "      <td>0</td>\n",
       "      <td>0</td>\n",
       "      <td>0</td>\n",
       "      <td>0</td>\n",
       "      <td>0</td>\n",
       "    </tr>\n",
       "    <tr>\n",
       "      <th>3</th>\n",
       "      <td>2020</td>\n",
       "      <td>16163</td>\n",
       "      <td>1326000</td>\n",
       "      <td>0</td>\n",
       "      <td>0</td>\n",
       "      <td>1</td>\n",
       "      <td>1</td>\n",
       "      <td>0</td>\n",
       "      <td>0</td>\n",
       "      <td>0</td>\n",
       "      <td>...</td>\n",
       "      <td>0</td>\n",
       "      <td>0</td>\n",
       "      <td>0</td>\n",
       "      <td>0</td>\n",
       "      <td>0</td>\n",
       "      <td>0</td>\n",
       "      <td>0</td>\n",
       "      <td>0</td>\n",
       "      <td>0</td>\n",
       "      <td>0</td>\n",
       "    </tr>\n",
       "    <tr>\n",
       "      <th>4</th>\n",
       "      <td>2015</td>\n",
       "      <td>105114</td>\n",
       "      <td>568000</td>\n",
       "      <td>0</td>\n",
       "      <td>0</td>\n",
       "      <td>1</td>\n",
       "      <td>0</td>\n",
       "      <td>1</td>\n",
       "      <td>0</td>\n",
       "      <td>0</td>\n",
       "      <td>...</td>\n",
       "      <td>0</td>\n",
       "      <td>0</td>\n",
       "      <td>0</td>\n",
       "      <td>0</td>\n",
       "      <td>0</td>\n",
       "      <td>0</td>\n",
       "      <td>0</td>\n",
       "      <td>0</td>\n",
       "      <td>0</td>\n",
       "      <td>0</td>\n",
       "    </tr>\n",
       "  </tbody>\n",
       "</table>\n",
       "<p>5 rows × 68 columns</p>\n",
       "</div>"
      ],
      "text/plain": [
       "   Year  kms Driven    Price  CNG  Diesel  Petrol  Automatic  Manual  \\\n",
       "0  2019       19006   928999    0       0       1          1       0   \n",
       "1  2021       11936  1395000    0       0       1          1       0   \n",
       "2  2018       29635   994999    0       0       1          1       0   \n",
       "3  2020       16163  1326000    0       0       1          1       0   \n",
       "4  2015      105114   568000    0       0       1          0       1   \n",
       "\n",
       "   Honda Accord 2.4  Honda Accord VTi-L  ...  Honda Jazz X  Honda Mobilio E  \\\n",
       "0                 0                   0  ...             0                0   \n",
       "1                 0                   0  ...             0                0   \n",
       "2                 0                   0  ...             0                0   \n",
       "3                 0                   0  ...             0                0   \n",
       "4                 0                   0  ...             0                0   \n",
       "\n",
       "   Honda Mobilio RS  Honda Mobilio S  Honda Mobilio V  Honda WR-V Edge  \\\n",
       "0                 0                0                0                0   \n",
       "1                 0                0                0                0   \n",
       "2                 0                0                0                0   \n",
       "3                 0                0                0                0   \n",
       "4                 0                0                0                0   \n",
       "\n",
       "   Honda WR-V SV  Honda WR-V VX  Honda WR-V i-DTEC  Honda WR-V i-VTEC  \n",
       "0              0              0                  0                  0  \n",
       "1              0              0                  0                  0  \n",
       "2              0              0                  0                  0  \n",
       "3              0              0                  0                  0  \n",
       "4              0              0                  0                  0  \n",
       "\n",
       "[5 rows x 68 columns]"
      ]
     },
     "execution_count": 32,
     "metadata": {},
     "output_type": "execute_result"
    }
   ],
   "source": [
    "df5 = df4.drop([\"Fuel Type\",\"Suspension\",\"Car Model\"],axis = \"columns\")\n",
    "df5.head()"
   ]
  },
  {
   "cell_type": "markdown",
   "id": "b8baed74",
   "metadata": {
    "papermill": {
     "duration": 0.043696,
     "end_time": "2023-06-04T17:05:22.869059",
     "exception": false,
     "start_time": "2023-06-04T17:05:22.825363",
     "status": "completed"
    },
    "tags": []
   },
   "source": [
    "<h1 style=\"color:blue\" align=\"center\">Outlier Removal</h1>"
   ]
  },
  {
   "cell_type": "markdown",
   "id": "86c9815a",
   "metadata": {
    "papermill": {
     "duration": 0.035954,
     "end_time": "2023-06-04T17:05:22.940657",
     "exception": false,
     "start_time": "2023-06-04T17:05:22.904703",
     "status": "completed"
    },
    "tags": []
   },
   "source": [
    "- **Describing the Dataset**"
   ]
  },
  {
   "cell_type": "markdown",
   "id": "4622b734",
   "metadata": {
    "papermill": {
     "duration": 0.049227,
     "end_time": "2023-06-04T17:05:23.037966",
     "exception": false,
     "start_time": "2023-06-04T17:05:22.988739",
     "status": "completed"
    },
    "tags": []
   },
   "source": [
    "*Here, we can see our 75% of Cars has driven 85000 kms and our Maximum Value in kms Driven is 11 Lakh kms which is an Outlier*"
   ]
  },
  {
   "cell_type": "markdown",
   "id": "1bd38e4f",
   "metadata": {
    "papermill": {
     "duration": 0.037102,
     "end_time": "2023-06-04T17:05:23.128933",
     "exception": false,
     "start_time": "2023-06-04T17:05:23.091831",
     "status": "completed"
    },
    "tags": []
   },
   "source": [
    "*Here, we can see our 75% of Cars has Price 7 Lakh and our Maximum Price is 26 Lakh which is an Outlier*"
   ]
  },
  {
   "cell_type": "code",
   "execution_count": 33,
   "id": "51b140ce",
   "metadata": {
    "execution": {
     "iopub.execute_input": "2023-06-04T17:05:23.205378Z",
     "iopub.status.busy": "2023-06-04T17:05:23.204947Z",
     "iopub.status.idle": "2023-06-04T17:05:23.418516Z",
     "shell.execute_reply": "2023-06-04T17:05:23.416853Z"
    },
    "papermill": {
     "duration": 0.256573,
     "end_time": "2023-06-04T17:05:23.423987",
     "exception": false,
     "start_time": "2023-06-04T17:05:23.167414",
     "status": "completed"
    },
    "tags": []
   },
   "outputs": [
    {
     "data": {
      "text/html": [
       "<div>\n",
       "<style scoped>\n",
       "    .dataframe tbody tr th:only-of-type {\n",
       "        vertical-align: middle;\n",
       "    }\n",
       "\n",
       "    .dataframe tbody tr th {\n",
       "        vertical-align: top;\n",
       "    }\n",
       "\n",
       "    .dataframe thead th {\n",
       "        text-align: right;\n",
       "    }\n",
       "</style>\n",
       "<table border=\"1\" class=\"dataframe\">\n",
       "  <thead>\n",
       "    <tr style=\"text-align: right;\">\n",
       "      <th></th>\n",
       "      <th>Year</th>\n",
       "      <th>kms Driven</th>\n",
       "      <th>Price</th>\n",
       "      <th>CNG</th>\n",
       "      <th>Diesel</th>\n",
       "      <th>Petrol</th>\n",
       "      <th>Automatic</th>\n",
       "      <th>Manual</th>\n",
       "      <th>Honda Accord 2.4</th>\n",
       "      <th>Honda Accord VTi-L</th>\n",
       "      <th>...</th>\n",
       "      <th>Honda Jazz X</th>\n",
       "      <th>Honda Mobilio E</th>\n",
       "      <th>Honda Mobilio RS</th>\n",
       "      <th>Honda Mobilio S</th>\n",
       "      <th>Honda Mobilio V</th>\n",
       "      <th>Honda WR-V Edge</th>\n",
       "      <th>Honda WR-V SV</th>\n",
       "      <th>Honda WR-V VX</th>\n",
       "      <th>Honda WR-V i-DTEC</th>\n",
       "      <th>Honda WR-V i-VTEC</th>\n",
       "    </tr>\n",
       "  </thead>\n",
       "  <tbody>\n",
       "    <tr>\n",
       "      <th>count</th>\n",
       "      <td>999.000000</td>\n",
       "      <td>9.990000e+02</td>\n",
       "      <td>9.990000e+02</td>\n",
       "      <td>999.000000</td>\n",
       "      <td>999.000000</td>\n",
       "      <td>999.000000</td>\n",
       "      <td>999.000000</td>\n",
       "      <td>999.000000</td>\n",
       "      <td>999.000000</td>\n",
       "      <td>999.000000</td>\n",
       "      <td>...</td>\n",
       "      <td>999.000000</td>\n",
       "      <td>999.000000</td>\n",
       "      <td>999.000000</td>\n",
       "      <td>999.000000</td>\n",
       "      <td>999.000000</td>\n",
       "      <td>999.000000</td>\n",
       "      <td>999.000000</td>\n",
       "      <td>999.000000</td>\n",
       "      <td>999.000000</td>\n",
       "      <td>999.000000</td>\n",
       "    </tr>\n",
       "    <tr>\n",
       "      <th>mean</th>\n",
       "      <td>2014.717718</td>\n",
       "      <td>6.607667e+04</td>\n",
       "      <td>5.530370e+05</td>\n",
       "      <td>0.001001</td>\n",
       "      <td>0.201201</td>\n",
       "      <td>0.797798</td>\n",
       "      <td>0.223223</td>\n",
       "      <td>0.776777</td>\n",
       "      <td>0.013013</td>\n",
       "      <td>0.001001</td>\n",
       "      <td>...</td>\n",
       "      <td>0.004004</td>\n",
       "      <td>0.001001</td>\n",
       "      <td>0.004004</td>\n",
       "      <td>0.005005</td>\n",
       "      <td>0.009009</td>\n",
       "      <td>0.002002</td>\n",
       "      <td>0.001001</td>\n",
       "      <td>0.003003</td>\n",
       "      <td>0.019019</td>\n",
       "      <td>0.018018</td>\n",
       "    </tr>\n",
       "    <tr>\n",
       "      <th>std</th>\n",
       "      <td>3.713756</td>\n",
       "      <td>5.310468e+04</td>\n",
       "      <td>3.030851e+05</td>\n",
       "      <td>0.031639</td>\n",
       "      <td>0.401099</td>\n",
       "      <td>0.401843</td>\n",
       "      <td>0.416615</td>\n",
       "      <td>0.416615</td>\n",
       "      <td>0.113387</td>\n",
       "      <td>0.031639</td>\n",
       "      <td>...</td>\n",
       "      <td>0.063182</td>\n",
       "      <td>0.031639</td>\n",
       "      <td>0.063182</td>\n",
       "      <td>0.070604</td>\n",
       "      <td>0.094535</td>\n",
       "      <td>0.044721</td>\n",
       "      <td>0.031639</td>\n",
       "      <td>0.054745</td>\n",
       "      <td>0.136660</td>\n",
       "      <td>0.133083</td>\n",
       "    </tr>\n",
       "    <tr>\n",
       "      <th>min</th>\n",
       "      <td>2000.000000</td>\n",
       "      <td>1.425000e+03</td>\n",
       "      <td>4.500000e+04</td>\n",
       "      <td>0.000000</td>\n",
       "      <td>0.000000</td>\n",
       "      <td>0.000000</td>\n",
       "      <td>0.000000</td>\n",
       "      <td>0.000000</td>\n",
       "      <td>0.000000</td>\n",
       "      <td>0.000000</td>\n",
       "      <td>...</td>\n",
       "      <td>0.000000</td>\n",
       "      <td>0.000000</td>\n",
       "      <td>0.000000</td>\n",
       "      <td>0.000000</td>\n",
       "      <td>0.000000</td>\n",
       "      <td>0.000000</td>\n",
       "      <td>0.000000</td>\n",
       "      <td>0.000000</td>\n",
       "      <td>0.000000</td>\n",
       "      <td>0.000000</td>\n",
       "    </tr>\n",
       "    <tr>\n",
       "      <th>25%</th>\n",
       "      <td>2013.000000</td>\n",
       "      <td>3.534100e+04</td>\n",
       "      <td>3.265000e+05</td>\n",
       "      <td>0.000000</td>\n",
       "      <td>0.000000</td>\n",
       "      <td>1.000000</td>\n",
       "      <td>0.000000</td>\n",
       "      <td>1.000000</td>\n",
       "      <td>0.000000</td>\n",
       "      <td>0.000000</td>\n",
       "      <td>...</td>\n",
       "      <td>0.000000</td>\n",
       "      <td>0.000000</td>\n",
       "      <td>0.000000</td>\n",
       "      <td>0.000000</td>\n",
       "      <td>0.000000</td>\n",
       "      <td>0.000000</td>\n",
       "      <td>0.000000</td>\n",
       "      <td>0.000000</td>\n",
       "      <td>0.000000</td>\n",
       "      <td>0.000000</td>\n",
       "    </tr>\n",
       "    <tr>\n",
       "      <th>50%</th>\n",
       "      <td>2015.000000</td>\n",
       "      <td>5.990000e+04</td>\n",
       "      <td>5.099990e+05</td>\n",
       "      <td>0.000000</td>\n",
       "      <td>0.000000</td>\n",
       "      <td>1.000000</td>\n",
       "      <td>0.000000</td>\n",
       "      <td>1.000000</td>\n",
       "      <td>0.000000</td>\n",
       "      <td>0.000000</td>\n",
       "      <td>...</td>\n",
       "      <td>0.000000</td>\n",
       "      <td>0.000000</td>\n",
       "      <td>0.000000</td>\n",
       "      <td>0.000000</td>\n",
       "      <td>0.000000</td>\n",
       "      <td>0.000000</td>\n",
       "      <td>0.000000</td>\n",
       "      <td>0.000000</td>\n",
       "      <td>0.000000</td>\n",
       "      <td>0.000000</td>\n",
       "    </tr>\n",
       "    <tr>\n",
       "      <th>75%</th>\n",
       "      <td>2017.000000</td>\n",
       "      <td>8.528750e+04</td>\n",
       "      <td>7.000000e+05</td>\n",
       "      <td>0.000000</td>\n",
       "      <td>0.000000</td>\n",
       "      <td>1.000000</td>\n",
       "      <td>0.000000</td>\n",
       "      <td>1.000000</td>\n",
       "      <td>0.000000</td>\n",
       "      <td>0.000000</td>\n",
       "      <td>...</td>\n",
       "      <td>0.000000</td>\n",
       "      <td>0.000000</td>\n",
       "      <td>0.000000</td>\n",
       "      <td>0.000000</td>\n",
       "      <td>0.000000</td>\n",
       "      <td>0.000000</td>\n",
       "      <td>0.000000</td>\n",
       "      <td>0.000000</td>\n",
       "      <td>0.000000</td>\n",
       "      <td>0.000000</td>\n",
       "    </tr>\n",
       "    <tr>\n",
       "      <th>max</th>\n",
       "      <td>2023.000000</td>\n",
       "      <td>1.100000e+06</td>\n",
       "      <td>2.650000e+06</td>\n",
       "      <td>1.000000</td>\n",
       "      <td>1.000000</td>\n",
       "      <td>1.000000</td>\n",
       "      <td>1.000000</td>\n",
       "      <td>1.000000</td>\n",
       "      <td>1.000000</td>\n",
       "      <td>1.000000</td>\n",
       "      <td>...</td>\n",
       "      <td>1.000000</td>\n",
       "      <td>1.000000</td>\n",
       "      <td>1.000000</td>\n",
       "      <td>1.000000</td>\n",
       "      <td>1.000000</td>\n",
       "      <td>1.000000</td>\n",
       "      <td>1.000000</td>\n",
       "      <td>1.000000</td>\n",
       "      <td>1.000000</td>\n",
       "      <td>1.000000</td>\n",
       "    </tr>\n",
       "  </tbody>\n",
       "</table>\n",
       "<p>8 rows × 68 columns</p>\n",
       "</div>"
      ],
      "text/plain": [
       "              Year    kms Driven         Price         CNG      Diesel  \\\n",
       "count   999.000000  9.990000e+02  9.990000e+02  999.000000  999.000000   \n",
       "mean   2014.717718  6.607667e+04  5.530370e+05    0.001001    0.201201   \n",
       "std       3.713756  5.310468e+04  3.030851e+05    0.031639    0.401099   \n",
       "min    2000.000000  1.425000e+03  4.500000e+04    0.000000    0.000000   \n",
       "25%    2013.000000  3.534100e+04  3.265000e+05    0.000000    0.000000   \n",
       "50%    2015.000000  5.990000e+04  5.099990e+05    0.000000    0.000000   \n",
       "75%    2017.000000  8.528750e+04  7.000000e+05    0.000000    0.000000   \n",
       "max    2023.000000  1.100000e+06  2.650000e+06    1.000000    1.000000   \n",
       "\n",
       "           Petrol   Automatic      Manual  Honda Accord 2.4  \\\n",
       "count  999.000000  999.000000  999.000000        999.000000   \n",
       "mean     0.797798    0.223223    0.776777          0.013013   \n",
       "std      0.401843    0.416615    0.416615          0.113387   \n",
       "min      0.000000    0.000000    0.000000          0.000000   \n",
       "25%      1.000000    0.000000    1.000000          0.000000   \n",
       "50%      1.000000    0.000000    1.000000          0.000000   \n",
       "75%      1.000000    0.000000    1.000000          0.000000   \n",
       "max      1.000000    1.000000    1.000000          1.000000   \n",
       "\n",
       "       Honda Accord VTi-L  ...  Honda Jazz X  Honda Mobilio E  \\\n",
       "count          999.000000  ...    999.000000       999.000000   \n",
       "mean             0.001001  ...      0.004004         0.001001   \n",
       "std              0.031639  ...      0.063182         0.031639   \n",
       "min              0.000000  ...      0.000000         0.000000   \n",
       "25%              0.000000  ...      0.000000         0.000000   \n",
       "50%              0.000000  ...      0.000000         0.000000   \n",
       "75%              0.000000  ...      0.000000         0.000000   \n",
       "max              1.000000  ...      1.000000         1.000000   \n",
       "\n",
       "       Honda Mobilio RS  Honda Mobilio S  Honda Mobilio V  Honda WR-V Edge  \\\n",
       "count        999.000000       999.000000       999.000000       999.000000   \n",
       "mean           0.004004         0.005005         0.009009         0.002002   \n",
       "std            0.063182         0.070604         0.094535         0.044721   \n",
       "min            0.000000         0.000000         0.000000         0.000000   \n",
       "25%            0.000000         0.000000         0.000000         0.000000   \n",
       "50%            0.000000         0.000000         0.000000         0.000000   \n",
       "75%            0.000000         0.000000         0.000000         0.000000   \n",
       "max            1.000000         1.000000         1.000000         1.000000   \n",
       "\n",
       "       Honda WR-V SV  Honda WR-V VX  Honda WR-V i-DTEC  Honda WR-V i-VTEC  \n",
       "count     999.000000     999.000000         999.000000         999.000000  \n",
       "mean        0.001001       0.003003           0.019019           0.018018  \n",
       "std         0.031639       0.054745           0.136660           0.133083  \n",
       "min         0.000000       0.000000           0.000000           0.000000  \n",
       "25%         0.000000       0.000000           0.000000           0.000000  \n",
       "50%         0.000000       0.000000           0.000000           0.000000  \n",
       "75%         0.000000       0.000000           0.000000           0.000000  \n",
       "max         1.000000       1.000000           1.000000           1.000000  \n",
       "\n",
       "[8 rows x 68 columns]"
      ]
     },
     "execution_count": 33,
     "metadata": {},
     "output_type": "execute_result"
    }
   ],
   "source": [
    "df5.describe()"
   ]
  },
  {
   "cell_type": "markdown",
   "id": "e5cfe98f",
   "metadata": {
    "papermill": {
     "duration": 0.039962,
     "end_time": "2023-06-04T17:05:23.505791",
     "exception": false,
     "start_time": "2023-06-04T17:05:23.465829",
     "status": "completed"
    },
    "tags": []
   },
   "source": [
    "*So we will filter all the Cars with kms Driven less than 1.5 Lakh kms for best possible Result*"
   ]
  },
  {
   "cell_type": "code",
   "execution_count": 34,
   "id": "9abe276f",
   "metadata": {
    "execution": {
     "iopub.execute_input": "2023-06-04T17:05:23.585989Z",
     "iopub.status.busy": "2023-06-04T17:05:23.584840Z",
     "iopub.status.idle": "2023-06-04T17:05:23.593216Z",
     "shell.execute_reply": "2023-06-04T17:05:23.591710Z"
    },
    "papermill": {
     "duration": 0.052933,
     "end_time": "2023-06-04T17:05:23.596770",
     "exception": false,
     "start_time": "2023-06-04T17:05:23.543837",
     "status": "completed"
    },
    "tags": []
   },
   "outputs": [],
   "source": [
    "df5 = df5[df5[\"kms Driven\"]<150000]"
   ]
  },
  {
   "cell_type": "markdown",
   "id": "017a3453",
   "metadata": {
    "papermill": {
     "duration": 0.03685,
     "end_time": "2023-06-04T17:05:23.670525",
     "exception": false,
     "start_time": "2023-06-04T17:05:23.633675",
     "status": "completed"
    },
    "tags": []
   },
   "source": [
    "*So we will filter all the Cars with Price less than 10 Lakh for best possible Result*"
   ]
  },
  {
   "cell_type": "code",
   "execution_count": 35,
   "id": "c8e4945a",
   "metadata": {
    "execution": {
     "iopub.execute_input": "2023-06-04T17:05:23.746636Z",
     "iopub.status.busy": "2023-06-04T17:05:23.745229Z",
     "iopub.status.idle": "2023-06-04T17:05:23.753739Z",
     "shell.execute_reply": "2023-06-04T17:05:23.751847Z"
    },
    "papermill": {
     "duration": 0.050264,
     "end_time": "2023-06-04T17:05:23.757053",
     "exception": false,
     "start_time": "2023-06-04T17:05:23.706789",
     "status": "completed"
    },
    "tags": []
   },
   "outputs": [],
   "source": [
    "df5 = df5[df5[\"Price\"]<1000000]"
   ]
  },
  {
   "cell_type": "markdown",
   "id": "cc3407ef",
   "metadata": {
    "papermill": {
     "duration": 0.03631,
     "end_time": "2023-06-04T17:05:23.831121",
     "exception": false,
     "start_time": "2023-06-04T17:05:23.794811",
     "status": "completed"
    },
    "tags": []
   },
   "source": [
    "<h1 style=\"color:blue\" align=\"center\">Model Building</h1>"
   ]
  },
  {
   "cell_type": "markdown",
   "id": "36edd2c9",
   "metadata": {
    "papermill": {
     "duration": 0.036015,
     "end_time": "2023-06-04T17:05:23.903850",
     "exception": false,
     "start_time": "2023-06-04T17:05:23.867835",
     "status": "completed"
    },
    "tags": []
   },
   "source": [
    "- **Defining Dependent and Independent Variables**"
   ]
  },
  {
   "cell_type": "code",
   "execution_count": 36,
   "id": "b194814e",
   "metadata": {
    "execution": {
     "iopub.execute_input": "2023-06-04T17:05:23.981364Z",
     "iopub.status.busy": "2023-06-04T17:05:23.980186Z",
     "iopub.status.idle": "2023-06-04T17:05:23.989194Z",
     "shell.execute_reply": "2023-06-04T17:05:23.987955Z"
    },
    "papermill": {
     "duration": 0.051311,
     "end_time": "2023-06-04T17:05:23.992628",
     "exception": false,
     "start_time": "2023-06-04T17:05:23.941317",
     "status": "completed"
    },
    "tags": []
   },
   "outputs": [],
   "source": [
    "X = df5.drop([\"Price\"],axis = \"columns\")\n",
    "y = df5.Price"
   ]
  },
  {
   "cell_type": "markdown",
   "id": "686d1a04",
   "metadata": {
    "papermill": {
     "duration": 0.037512,
     "end_time": "2023-06-04T17:05:24.069034",
     "exception": false,
     "start_time": "2023-06-04T17:05:24.031522",
     "status": "completed"
    },
    "tags": []
   },
   "source": [
    "- **Train Test Split**"
   ]
  },
  {
   "cell_type": "code",
   "execution_count": 37,
   "id": "771eb37b",
   "metadata": {
    "execution": {
     "iopub.execute_input": "2023-06-04T17:05:24.146825Z",
     "iopub.status.busy": "2023-06-04T17:05:24.145669Z",
     "iopub.status.idle": "2023-06-04T17:05:24.441723Z",
     "shell.execute_reply": "2023-06-04T17:05:24.439944Z"
    },
    "papermill": {
     "duration": 0.339322,
     "end_time": "2023-06-04T17:05:24.445263",
     "exception": false,
     "start_time": "2023-06-04T17:05:24.105941",
     "status": "completed"
    },
    "tags": []
   },
   "outputs": [],
   "source": [
    "from sklearn.model_selection import train_test_split"
   ]
  },
  {
   "cell_type": "code",
   "execution_count": 38,
   "id": "e04f2d15",
   "metadata": {
    "execution": {
     "iopub.execute_input": "2023-06-04T17:05:24.523172Z",
     "iopub.status.busy": "2023-06-04T17:05:24.522716Z",
     "iopub.status.idle": "2023-06-04T17:05:24.532606Z",
     "shell.execute_reply": "2023-06-04T17:05:24.531077Z"
    },
    "papermill": {
     "duration": 0.051337,
     "end_time": "2023-06-04T17:05:24.535556",
     "exception": false,
     "start_time": "2023-06-04T17:05:24.484219",
     "status": "completed"
    },
    "tags": []
   },
   "outputs": [],
   "source": [
    "X_train, X_test, y_train, y_test = train_test_split(X, y, test_size = 0.33, random_state = 10)"
   ]
  },
  {
   "cell_type": "markdown",
   "id": "8cd079a9",
   "metadata": {
    "papermill": {
     "duration": 0.037601,
     "end_time": "2023-06-04T17:05:24.610286",
     "exception": false,
     "start_time": "2023-06-04T17:05:24.572685",
     "status": "completed"
    },
    "tags": []
   },
   "source": [
    "- **Importing LinearRegression Model**"
   ]
  },
  {
   "cell_type": "code",
   "execution_count": 39,
   "id": "f4073a7b",
   "metadata": {
    "execution": {
     "iopub.execute_input": "2023-06-04T17:05:24.686441Z",
     "iopub.status.busy": "2023-06-04T17:05:24.685803Z",
     "iopub.status.idle": "2023-06-04T17:05:24.801198Z",
     "shell.execute_reply": "2023-06-04T17:05:24.799604Z"
    },
    "papermill": {
     "duration": 0.15793,
     "end_time": "2023-06-04T17:05:24.804909",
     "exception": false,
     "start_time": "2023-06-04T17:05:24.646979",
     "status": "completed"
    },
    "tags": []
   },
   "outputs": [],
   "source": [
    "from sklearn.linear_model import LinearRegression"
   ]
  },
  {
   "cell_type": "code",
   "execution_count": 40,
   "id": "0705af71",
   "metadata": {
    "execution": {
     "iopub.execute_input": "2023-06-04T17:05:24.880738Z",
     "iopub.status.busy": "2023-06-04T17:05:24.880243Z",
     "iopub.status.idle": "2023-06-04T17:05:24.887462Z",
     "shell.execute_reply": "2023-06-04T17:05:24.885908Z"
    },
    "papermill": {
     "duration": 0.049329,
     "end_time": "2023-06-04T17:05:24.891020",
     "exception": false,
     "start_time": "2023-06-04T17:05:24.841691",
     "status": "completed"
    },
    "tags": []
   },
   "outputs": [],
   "source": [
    "lr = LinearRegression()"
   ]
  },
  {
   "cell_type": "markdown",
   "id": "c2b43897",
   "metadata": {
    "papermill": {
     "duration": 0.037031,
     "end_time": "2023-06-04T17:05:24.965204",
     "exception": false,
     "start_time": "2023-06-04T17:05:24.928173",
     "status": "completed"
    },
    "tags": []
   },
   "source": [
    "- **Fitting the Model**"
   ]
  },
  {
   "cell_type": "code",
   "execution_count": 41,
   "id": "8973ee69",
   "metadata": {
    "execution": {
     "iopub.execute_input": "2023-06-04T17:05:25.041416Z",
     "iopub.status.busy": "2023-06-04T17:05:25.040938Z",
     "iopub.status.idle": "2023-06-04T17:05:25.083832Z",
     "shell.execute_reply": "2023-06-04T17:05:25.081692Z"
    },
    "papermill": {
     "duration": 0.087368,
     "end_time": "2023-06-04T17:05:25.089641",
     "exception": false,
     "start_time": "2023-06-04T17:05:25.002273",
     "status": "completed"
    },
    "tags": []
   },
   "outputs": [
    {
     "data": {
      "text/plain": [
       "LinearRegression()"
      ]
     },
     "execution_count": 41,
     "metadata": {},
     "output_type": "execute_result"
    }
   ],
   "source": [
    "lr.fit(X_train,y_train)"
   ]
  },
  {
   "cell_type": "markdown",
   "id": "461c0cc3",
   "metadata": {
    "papermill": {
     "duration": 0.044858,
     "end_time": "2023-06-04T17:05:25.212239",
     "exception": false,
     "start_time": "2023-06-04T17:05:25.167381",
     "status": "completed"
    },
    "tags": []
   },
   "source": [
    "- **Score of the Model**"
   ]
  },
  {
   "cell_type": "code",
   "execution_count": 42,
   "id": "26b26ea2",
   "metadata": {
    "execution": {
     "iopub.execute_input": "2023-06-04T17:05:25.288923Z",
     "iopub.status.busy": "2023-06-04T17:05:25.287350Z",
     "iopub.status.idle": "2023-06-04T17:05:25.304520Z",
     "shell.execute_reply": "2023-06-04T17:05:25.302680Z"
    },
    "papermill": {
     "duration": 0.060656,
     "end_time": "2023-06-04T17:05:25.309482",
     "exception": false,
     "start_time": "2023-06-04T17:05:25.248826",
     "status": "completed"
    },
    "tags": []
   },
   "outputs": [
    {
     "data": {
      "text/plain": [
       "0.8211897942752453"
      ]
     },
     "execution_count": 42,
     "metadata": {},
     "output_type": "execute_result"
    }
   ],
   "source": [
    "lr.score(X_test,y_test)"
   ]
  },
  {
   "cell_type": "markdown",
   "id": "d6054797",
   "metadata": {
    "papermill": {
     "duration": 0.051395,
     "end_time": "2023-06-04T17:05:25.439478",
     "exception": false,
     "start_time": "2023-06-04T17:05:25.388083",
     "status": "completed"
    },
    "tags": []
   },
   "source": [
    "- **Importing KFold for measuring Model Accuracy**"
   ]
  },
  {
   "cell_type": "code",
   "execution_count": 43,
   "id": "45e3959c",
   "metadata": {
    "execution": {
     "iopub.execute_input": "2023-06-04T17:05:25.517614Z",
     "iopub.status.busy": "2023-06-04T17:05:25.517000Z",
     "iopub.status.idle": "2023-06-04T17:05:25.524001Z",
     "shell.execute_reply": "2023-06-04T17:05:25.522318Z"
    },
    "papermill": {
     "duration": 0.049821,
     "end_time": "2023-06-04T17:05:25.527083",
     "exception": false,
     "start_time": "2023-06-04T17:05:25.477262",
     "status": "completed"
    },
    "tags": []
   },
   "outputs": [],
   "source": [
    "from sklearn.model_selection import KFold"
   ]
  },
  {
   "cell_type": "code",
   "execution_count": 44,
   "id": "dba9af1e",
   "metadata": {
    "execution": {
     "iopub.execute_input": "2023-06-04T17:05:25.604189Z",
     "iopub.status.busy": "2023-06-04T17:05:25.603609Z",
     "iopub.status.idle": "2023-06-04T17:05:25.614680Z",
     "shell.execute_reply": "2023-06-04T17:05:25.612504Z"
    },
    "papermill": {
     "duration": 0.05433,
     "end_time": "2023-06-04T17:05:25.619037",
     "exception": false,
     "start_time": "2023-06-04T17:05:25.564707",
     "status": "completed"
    },
    "tags": []
   },
   "outputs": [
    {
     "data": {
      "text/plain": [
       "KFold(n_splits=5, random_state=None, shuffle=False)"
      ]
     },
     "execution_count": 44,
     "metadata": {},
     "output_type": "execute_result"
    }
   ],
   "source": [
    "kf = KFold(n_splits = 5)\n",
    "kf"
   ]
  },
  {
   "cell_type": "markdown",
   "id": "4df427b1",
   "metadata": {
    "papermill": {
     "duration": 0.038095,
     "end_time": "2023-06-04T17:05:25.696058",
     "exception": false,
     "start_time": "2023-06-04T17:05:25.657963",
     "status": "completed"
    },
    "tags": []
   },
   "source": [
    "- **Importing CrossValScore for Best Score**"
   ]
  },
  {
   "cell_type": "code",
   "execution_count": 45,
   "id": "c44da62a",
   "metadata": {
    "execution": {
     "iopub.execute_input": "2023-06-04T17:05:25.778915Z",
     "iopub.status.busy": "2023-06-04T17:05:25.777105Z",
     "iopub.status.idle": "2023-06-04T17:05:25.785410Z",
     "shell.execute_reply": "2023-06-04T17:05:25.784107Z"
    },
    "papermill": {
     "duration": 0.053217,
     "end_time": "2023-06-04T17:05:25.788828",
     "exception": false,
     "start_time": "2023-06-04T17:05:25.735611",
     "status": "completed"
    },
    "tags": []
   },
   "outputs": [],
   "source": [
    "from sklearn.model_selection import cross_val_score"
   ]
  },
  {
   "cell_type": "code",
   "execution_count": 46,
   "id": "d67a4783",
   "metadata": {
    "execution": {
     "iopub.execute_input": "2023-06-04T17:05:25.870056Z",
     "iopub.status.busy": "2023-06-04T17:05:25.868734Z",
     "iopub.status.idle": "2023-06-04T17:05:25.977958Z",
     "shell.execute_reply": "2023-06-04T17:05:25.976031Z"
    },
    "papermill": {
     "duration": 0.156435,
     "end_time": "2023-06-04T17:05:25.984422",
     "exception": false,
     "start_time": "2023-06-04T17:05:25.827987",
     "status": "completed"
    },
    "tags": []
   },
   "outputs": [],
   "source": [
    "cross_val = cross_val_score(LinearRegression(),X,y)"
   ]
  },
  {
   "cell_type": "markdown",
   "id": "afb66ac0",
   "metadata": {
    "papermill": {
     "duration": 0.053784,
     "end_time": "2023-06-04T17:05:26.124554",
     "exception": false,
     "start_time": "2023-06-04T17:05:26.070770",
     "status": "completed"
    },
    "tags": []
   },
   "source": [
    "- **Mean of CrossValScore**"
   ]
  },
  {
   "cell_type": "code",
   "execution_count": 47,
   "id": "3536263c",
   "metadata": {
    "execution": {
     "iopub.execute_input": "2023-06-04T17:05:26.204329Z",
     "iopub.status.busy": "2023-06-04T17:05:26.203499Z",
     "iopub.status.idle": "2023-06-04T17:05:26.213945Z",
     "shell.execute_reply": "2023-06-04T17:05:26.212516Z"
    },
    "papermill": {
     "duration": 0.054043,
     "end_time": "2023-06-04T17:05:26.217070",
     "exception": false,
     "start_time": "2023-06-04T17:05:26.163027",
     "status": "completed"
    },
    "tags": []
   },
   "outputs": [
    {
     "data": {
      "text/plain": [
       "0.8335835128642104"
      ]
     },
     "execution_count": 47,
     "metadata": {},
     "output_type": "execute_result"
    }
   ],
   "source": [
    "cross_val.mean()"
   ]
  },
  {
   "cell_type": "markdown",
   "id": "6f77e43a",
   "metadata": {
    "papermill": {
     "duration": 0.036925,
     "end_time": "2023-06-04T17:05:26.292778",
     "exception": false,
     "start_time": "2023-06-04T17:05:26.255853",
     "status": "completed"
    },
    "tags": []
   },
   "source": [
    "- **Predicting the Output**"
   ]
  },
  {
   "cell_type": "code",
   "execution_count": 48,
   "id": "230a8144",
   "metadata": {
    "execution": {
     "iopub.execute_input": "2023-06-04T17:05:26.368806Z",
     "iopub.status.busy": "2023-06-04T17:05:26.368235Z",
     "iopub.status.idle": "2023-06-04T17:05:26.384389Z",
     "shell.execute_reply": "2023-06-04T17:05:26.382146Z"
    },
    "papermill": {
     "duration": 0.060735,
     "end_time": "2023-06-04T17:05:26.390369",
     "exception": false,
     "start_time": "2023-06-04T17:05:26.329634",
     "status": "completed"
    },
    "tags": []
   },
   "outputs": [],
   "source": [
    "y_predicted = lr.predict(X_test)"
   ]
  }
 ],
 "metadata": {
  "kernelspec": {
   "display_name": "Python 3",
   "language": "python",
   "name": "python3"
  },
  "language_info": {
   "codemirror_mode": {
    "name": "ipython",
    "version": 3
   },
   "file_extension": ".py",
   "mimetype": "text/x-python",
   "name": "python",
   "nbconvert_exporter": "python",
   "pygments_lexer": "ipython3",
   "version": "3.7.12"
  },
  "papermill": {
   "default_parameters": {},
   "duration": 32.940944,
   "end_time": "2023-06-04T17:05:27.501972",
   "environment_variables": {},
   "exception": null,
   "input_path": "__notebook__.ipynb",
   "output_path": "__notebook__.ipynb",
   "parameters": {},
   "start_time": "2023-06-04T17:04:54.561028",
   "version": "2.4.0"
  }
 },
 "nbformat": 4,
 "nbformat_minor": 5
}
